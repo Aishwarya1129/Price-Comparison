{
 "cells": [
  {
   "cell_type": "code",
   "execution_count": 1,
   "metadata": {},
   "outputs": [],
   "source": [
    "import requests\n",
    "from bs4 import BeautifulSoup"
   ]
  },
  {
   "cell_type": "code",
   "execution_count": 2,
   "metadata": {},
   "outputs": [],
   "source": [
    "r=requests.get(\"https://www.flipkart.com/samsung-mobile-store?otracker=nmenu_sub_Electronics_0_Samsung\")\n",
    "c=r.content"
   ]
  },
  {
   "cell_type": "code",
   "execution_count": 3,
   "metadata": {},
   "outputs": [],
   "source": [
    "soup=BeautifulSoup(c,\"html.parser\")"
   ]
  },
  {
   "cell_type": "code",
   "execution_count": 4,
   "metadata": {},
   "outputs": [],
   "source": [
    "all=soup.find_all(\"div\",{\"class\":\"_1CzqlW\"})"
   ]
  },
  {
   "cell_type": "code",
   "execution_count": 5,
   "metadata": {},
   "outputs": [
    {
     "data": {
      "text/plain": [
       "[<div class=\"_1CzqlW\"><div class=\"_3liAhj _2Vsm67\"><a class=\"Zhf2z-\" href=\"/samsung-galaxy-a10-blue-32-gb/p/itmfen5uvzzwcm5f?pid=MOBFEN5UDNHGSGVX&amp;lid=LSTMOBFEN5UDNHGSGVXVXXHKO&amp;marketplace=FLIPKART&amp;fm=neo%2Fmerchandising&amp;iid=M_2d5c65b1-0a48-4d62-a30e-da2eeb2a43ae_1_1BUWY8OBA8L9_MC.MOBFEN5UDNHGSGVX&amp;otracker=clp_pmu_v2_Latest%2BSamsung%2Bmobiles%2B_1_1.productCard.PMU_V2_Samsung%2BGalaxy%2BA10%2B%2528Blue%252C%2B32%2BGB%2529_samsung-mobile-store_MOBFEN5UDNHGSGVX_neo%2Fmerchandising_0&amp;cid=MOBFEN5UDNHGSGVX\" rel=\"noopener noreferrer\" target=\"_blank\" title=\"Samsung Galaxy A10 (Blue, 32 GB)\"><div class=\"_8Vcv_L\"><div><div class=\"_3BTv9X\" style=\"height:150px;width:150px\"><img alt=\"Samsung Galaxy A10 (Blue, 32 GB)\" class=\"_1Nyybr\" src=\"//img1a.flixcart.com/www/linchpin/fk-cp-zion/img/placeholder_9951d0.svg\"/></div></div></div></a><div><div><a class=\"_2cLu-l\" href=\"/samsung-galaxy-a10-blue-32-gb/p/itmfen5uvzzwcm5f?pid=MOBFEN5UDNHGSGVX&amp;lid=LSTMOBFEN5UDNHGSGVXVXXHKO&amp;marketplace=FLIPKART&amp;fm=neo%2Fmerchandising&amp;iid=M_2d5c65b1-0a48-4d62-a30e-da2eeb2a43ae_1_1BUWY8OBA8L9_MC.MOBFEN5UDNHGSGVX&amp;otracker=clp_pmu_v2_Latest%2BSamsung%2Bmobiles%2B_1_1.productCard.PMU_V2_Samsung%2BGalaxy%2BA10%2B%2528Blue%252C%2B32%2BGB%2529_samsung-mobile-store_MOBFEN5UDNHGSGVX_neo%2Fmerchandising_0&amp;cid=MOBFEN5UDNHGSGVX\" rel=\"noopener noreferrer\" target=\"_blank\" title=\"Samsung Galaxy A10 (Blue, 32 GB)\">Samsung Galaxy A10 (Blue, 32 GB)</a></div><div class=\"niH0FQ _36Fcw_\"><span class=\"_2_KrJI\" id=\"productRating_LSTMOBFEN5UDNHGSGVXVXXHKO_MOBFEN5UDNHGSGVX_\"><div class=\"hGSR34\">4.3<img class=\"_2lQ_WZ\" src=\"data:image/svg+xml;base64,PHN2ZyB4bWxucz0iaHR0cDovL3d3dy53My5vcmcvMjAwMC9zdmciIHdpZHRoPSIxMyIgaGVpZ2h0PSIxMiI+PHBhdGggZmlsbD0iI0ZGRiIgZD0iTTYuNSA5LjQzOWwtMy42NzQgMi4yMy45NC00LjI2LTMuMjEtMi44ODMgNC4yNTQtLjQwNEw2LjUuMTEybDEuNjkgNC4wMSA0LjI1NC40MDQtMy4yMSAyLjg4Mi45NCA0LjI2eiIvPjwvc3ZnPg==\"/></div></span><span class=\"_38sUEc\">(81)</span></div><div class=\"_1Vfi6u\"><div class=\"_1uv9Cb\"><div class=\"_1vC4OE\">₹8,490</div><div class=\"_3auQ3N\">₹<!-- -->9,600</div><div class=\"VGWI6T\"><span>11% off</span></div></div></div></div><div class=\"_3gDSOa _3iGnbq\"><div class=\"DsQ2eg\"><svg class=\"_2oLiqr\" height=\"16\" viewbox=\"0 0 20 16\" width=\"16\" xmlns=\"http://www.w3.org/2000/svg\"><path class=\"_35Y7Yo\" d=\"M8.695 16.682C4.06 12.382 1 9.536 1 6.065 1 3.219 3.178 1 5.95 1c1.566 0 3.069.746 4.05 1.915C10.981 1.745 12.484 1 14.05 1 16.822 1 19 3.22 19 6.065c0 3.471-3.06 6.316-7.695 10.617L10 17.897l-1.305-1.215z\" fill=\"#2874F0\" fill-rule=\"evenodd\" opacity=\".9\" stroke=\"#FFF\"></path></svg></div></div></div></div>,\n",
       " <div class=\"_1CzqlW\"><div class=\"_3liAhj _2Vsm67\"><a class=\"Zhf2z-\" href=\"/samsung-galaxy-a30-black-64-gb/p/itmfec2hqbxcmbzn?pid=MOBFE4CSBDN9XETN&amp;fm=neo%2Fmerchandising&amp;iid=M_2d5c65b1-0a48-4d62-a30e-da2eeb2a43ae_1_1BUWY8OBA8L9_MC.MOBFE4CSBDN9XETN&amp;otracker=clp_pmu_v2_Latest%2BSamsung%2Bmobiles%2B_2_1.productCard.PMU_V2_Samsung%2BGalaxy%2BA30%2B%2528Black%252C%2B64%2BGB%2529_samsung-mobile-store_MOBFE4CSBDN9XETN_neo%2Fmerchandising_1&amp;cid=MOBFE4CSBDN9XETN\" rel=\"noopener noreferrer\" target=\"_blank\" title=\"Samsung Galaxy A30 (Black, 64 GB)\"><div class=\"_8Vcv_L\"><div style=\"-webkit-filter:grayscale(1);-moz-filter:grayscale(1);-o-filter:grayscale(1);-ms-filter:grayscale(1);filter:grayscale(1);opacity:0.6\"><div class=\"_3BTv9X\" style=\"height:150px;width:150px\"><img alt=\"Samsung Galaxy A30 (Black, 64 GB)\" class=\"_1Nyybr\" src=\"//img1a.flixcart.com/www/linchpin/fk-cp-zion/img/placeholder_9951d0.svg\"/></div></div></div><div class=\"_3aV9Tq\"><span class=\"_1GJ2ZM\">Currently Unavailable</span></div></a><div><div><a class=\"_2cLu-l\" href=\"/samsung-galaxy-a30-black-64-gb/p/itmfec2hqbxcmbzn?pid=MOBFE4CSBDN9XETN&amp;fm=neo%2Fmerchandising&amp;iid=M_2d5c65b1-0a48-4d62-a30e-da2eeb2a43ae_1_1BUWY8OBA8L9_MC.MOBFE4CSBDN9XETN&amp;otracker=clp_pmu_v2_Latest%2BSamsung%2Bmobiles%2B_2_1.productCard.PMU_V2_Samsung%2BGalaxy%2BA30%2B%2528Black%252C%2B64%2BGB%2529_samsung-mobile-store_MOBFE4CSBDN9XETN_neo%2Fmerchandising_1&amp;cid=MOBFE4CSBDN9XETN\" rel=\"noopener noreferrer\" target=\"_blank\" title=\"Samsung Galaxy A30 (Black, 64 GB)\">Samsung Galaxy A30 (Black, 64 GB)</a></div><div class=\"niH0FQ _36Fcw_\"><span class=\"_2_KrJI\" id=\"productRating_undefined_MOBFE4CSBDN9XETN_\"><div class=\"hGSR34\">4.4<img class=\"_2lQ_WZ\" src=\"data:image/svg+xml;base64,PHN2ZyB4bWxucz0iaHR0cDovL3d3dy53My5vcmcvMjAwMC9zdmciIHdpZHRoPSIxMyIgaGVpZ2h0PSIxMiI+PHBhdGggZmlsbD0iI0ZGRiIgZD0iTTYuNSA5LjQzOWwtMy42NzQgMi4yMy45NC00LjI2LTMuMjEtMi44ODMgNC4yNTQtLjQwNEw2LjUuMTEybDEuNjkgNC4wMSA0LjI1NC40MDQtMy4yMSAyLjg4Mi45NCA0LjI2eiIvPjwvc3ZnPg==\"/></div></span><span class=\"_38sUEc\">(1,158)</span></div><div class=\"_1Vfi6u\"><div class=\"_1uv9Cb\"><div class=\"_1NO3oe\"><span>Price: Not Available</span></div></div></div></div><div class=\"_3gDSOa _3iGnbq\"><div class=\"DsQ2eg\"><svg class=\"_2oLiqr\" height=\"16\" viewbox=\"0 0 20 16\" width=\"16\" xmlns=\"http://www.w3.org/2000/svg\"><path class=\"_35Y7Yo\" d=\"M8.695 16.682C4.06 12.382 1 9.536 1 6.065 1 3.219 3.178 1 5.95 1c1.566 0 3.069.746 4.05 1.915C10.981 1.745 12.484 1 14.05 1 16.822 1 19 3.22 19 6.065c0 3.471-3.06 6.316-7.695 10.617L10 17.897l-1.305-1.215z\" fill=\"#2874F0\" fill-rule=\"evenodd\" opacity=\".9\" stroke=\"#FFF\"></path></svg></div></div></div></div>,\n",
       " <div class=\"_1CzqlW\"><div class=\"_3liAhj _2Vsm67\"><a class=\"Zhf2z-\" href=\"/samsung-galaxy-a50-black-64-gb/p/itmfe4csknzx2kcs?pid=MOBFE4CS3FDSGEZR&amp;lid=LSTMOBFE4CS3FDSGEZRX2POEW&amp;marketplace=FLIPKART&amp;fm=neo%2Fmerchandising&amp;iid=M_2d5c65b1-0a48-4d62-a30e-da2eeb2a43ae_1_1BUWY8OBA8L9_MC.MOBFE4CS3FDSGEZR&amp;otracker=clp_pmu_v2_Latest%2BSamsung%2Bmobiles%2B_3_1.productCard.PMU_V2_Samsung%2BGalaxy%2BA50%2B%2528Black%252C%2B64%2BGB%2529_samsung-mobile-store_MOBFE4CS3FDSGEZR_neo%2Fmerchandising_2&amp;cid=MOBFE4CS3FDSGEZR\" rel=\"noopener noreferrer\" target=\"_blank\" title=\"Samsung Galaxy A50 (Black, 64 GB)\"><div class=\"_8Vcv_L\"><div><div class=\"_3BTv9X\" style=\"height:150px;width:150px\"><img alt=\"Samsung Galaxy A50 (Black, 64 GB)\" class=\"_1Nyybr\" src=\"//img1a.flixcart.com/www/linchpin/fk-cp-zion/img/placeholder_9951d0.svg\"/></div></div></div></a><div><div><a class=\"_2cLu-l\" href=\"/samsung-galaxy-a50-black-64-gb/p/itmfe4csknzx2kcs?pid=MOBFE4CS3FDSGEZR&amp;lid=LSTMOBFE4CS3FDSGEZRX2POEW&amp;marketplace=FLIPKART&amp;fm=neo%2Fmerchandising&amp;iid=M_2d5c65b1-0a48-4d62-a30e-da2eeb2a43ae_1_1BUWY8OBA8L9_MC.MOBFE4CS3FDSGEZR&amp;otracker=clp_pmu_v2_Latest%2BSamsung%2Bmobiles%2B_3_1.productCard.PMU_V2_Samsung%2BGalaxy%2BA50%2B%2528Black%252C%2B64%2BGB%2529_samsung-mobile-store_MOBFE4CS3FDSGEZR_neo%2Fmerchandising_2&amp;cid=MOBFE4CS3FDSGEZR\" rel=\"noopener noreferrer\" target=\"_blank\" title=\"Samsung Galaxy A50 (Black, 64 GB)\">Samsung Galaxy A50 (Black, 64 GB)</a></div><div class=\"niH0FQ _36Fcw_\"><span class=\"_2_KrJI\" id=\"productRating_LSTMOBFE4CS3FDSGEZRX2POEW_MOBFE4CS3FDSGEZR_\"><div class=\"hGSR34\">4.4<img class=\"_2lQ_WZ\" src=\"data:image/svg+xml;base64,PHN2ZyB4bWxucz0iaHR0cDovL3d3dy53My5vcmcvMjAwMC9zdmciIHdpZHRoPSIxMyIgaGVpZ2h0PSIxMiI+PHBhdGggZmlsbD0iI0ZGRiIgZD0iTTYuNSA5LjQzOWwtMy42NzQgMi4yMy45NC00LjI2LTMuMjEtMi44ODMgNC4yNTQtLjQwNEw2LjUuMTEybDEuNjkgNC4wMSA0LjI1NC40MDQtMy4yMSAyLjg4Mi45NCA0LjI2eiIvPjwvc3ZnPg==\"/></div></span><span class=\"_38sUEc\">(3,151)</span></div><div class=\"_1Vfi6u\"><div class=\"_1uv9Cb\"><div class=\"_1vC4OE\">₹19,990</div><div class=\"_3auQ3N\">₹<!-- -->21,000</div><div class=\"VGWI6T\"><span>4% off</span></div></div></div></div><div class=\"_3gDSOa _3iGnbq\"><div class=\"DsQ2eg\"><svg class=\"_2oLiqr\" height=\"16\" viewbox=\"0 0 20 16\" width=\"16\" xmlns=\"http://www.w3.org/2000/svg\"><path class=\"_35Y7Yo\" d=\"M8.695 16.682C4.06 12.382 1 9.536 1 6.065 1 3.219 3.178 1 5.95 1c1.566 0 3.069.746 4.05 1.915C10.981 1.745 12.484 1 14.05 1 16.822 1 19 3.22 19 6.065c0 3.471-3.06 6.316-7.695 10.617L10 17.897l-1.305-1.215z\" fill=\"#2874F0\" fill-rule=\"evenodd\" opacity=\".9\" stroke=\"#FFF\"></path></svg></div></div></div></div>,\n",
       " <div class=\"_1CzqlW\"><div class=\"_3liAhj _2Vsm67\"><a class=\"Zhf2z-\" href=\"/samsung-galaxy-s10e-prism-black-128-gb/p/itmfdyp6dsv8wtem?pid=MOBFDNHAVZQ7SDDQ&amp;lid=LSTMOBFDNHAVZQ7SDDQWAUPGV&amp;marketplace=FLIPKART&amp;fm=neo%2Fmerchandising&amp;iid=M_2d5c65b1-0a48-4d62-a30e-da2eeb2a43ae_1_1BUWY8OBA8L9_MC.MOBFDNHAVZQ7SDDQ&amp;otracker=clp_pmu_v2_Latest%2BSamsung%2Bmobiles%2B_4_1.productCard.PMU_V2_Samsung%2BGalaxy%2BS10e%2B%2528Prism%2BBlack%252C%2B128%2BGB%2529_samsung-mobile-store_MOBFDNHAVZQ7SDDQ_neo%2Fmerchandising_3&amp;cid=MOBFDNHAVZQ7SDDQ\" rel=\"noopener noreferrer\" target=\"_blank\" title=\"Samsung Galaxy S10e (Prism Black, 128 GB)\"><div class=\"_8Vcv_L\"><div><div class=\"_3BTv9X\" style=\"height:150px;width:150px\"><img alt=\"Samsung Galaxy S10e (Prism Black, 128 GB)\" class=\"_1Nyybr\" src=\"//img1a.flixcart.com/www/linchpin/fk-cp-zion/img/placeholder_9951d0.svg\"/></div></div></div></a><div><div><a class=\"_2cLu-l\" href=\"/samsung-galaxy-s10e-prism-black-128-gb/p/itmfdyp6dsv8wtem?pid=MOBFDNHAVZQ7SDDQ&amp;lid=LSTMOBFDNHAVZQ7SDDQWAUPGV&amp;marketplace=FLIPKART&amp;fm=neo%2Fmerchandising&amp;iid=M_2d5c65b1-0a48-4d62-a30e-da2eeb2a43ae_1_1BUWY8OBA8L9_MC.MOBFDNHAVZQ7SDDQ&amp;otracker=clp_pmu_v2_Latest%2BSamsung%2Bmobiles%2B_4_1.productCard.PMU_V2_Samsung%2BGalaxy%2BS10e%2B%2528Prism%2BBlack%252C%2B128%2BGB%2529_samsung-mobile-store_MOBFDNHAVZQ7SDDQ_neo%2Fmerchandising_3&amp;cid=MOBFDNHAVZQ7SDDQ\" rel=\"noopener noreferrer\" target=\"_blank\" title=\"Samsung Galaxy S10e (Prism Black, 128 GB)\">Samsung Galaxy S10e (Prism Black, 128 GB)</a></div><div class=\"niH0FQ _36Fcw_\"><span class=\"_2_KrJI\" id=\"productRating_LSTMOBFDNHAVZQ7SDDQWAUPGV_MOBFDNHAVZQ7SDDQ_\"><div class=\"hGSR34\">4.5<img class=\"_2lQ_WZ\" src=\"data:image/svg+xml;base64,PHN2ZyB4bWxucz0iaHR0cDovL3d3dy53My5vcmcvMjAwMC9zdmciIHdpZHRoPSIxMyIgaGVpZ2h0PSIxMiI+PHBhdGggZmlsbD0iI0ZGRiIgZD0iTTYuNSA5LjQzOWwtMy42NzQgMi4yMy45NC00LjI2LTMuMjEtMi44ODMgNC4yNTQtLjQwNEw2LjUuMTEybDEuNjkgNC4wMSA0LjI1NC40MDQtMy4yMSAyLjg4Mi45NCA0LjI2eiIvPjwvc3ZnPg==\"/></div></span><span class=\"_38sUEc\">(83)</span></div><div class=\"_1Vfi6u\"><div class=\"_1uv9Cb\"><div class=\"_1vC4OE\">₹55,900</div><div class=\"_3auQ3N\">₹<!-- -->59,000</div><div class=\"VGWI6T\"><span>5% off</span></div></div></div></div><div class=\"_3gDSOa _3iGnbq\"><div class=\"DsQ2eg\"><svg class=\"_2oLiqr\" height=\"16\" viewbox=\"0 0 20 16\" width=\"16\" xmlns=\"http://www.w3.org/2000/svg\"><path class=\"_35Y7Yo\" d=\"M8.695 16.682C4.06 12.382 1 9.536 1 6.065 1 3.219 3.178 1 5.95 1c1.566 0 3.069.746 4.05 1.915C10.981 1.745 12.484 1 14.05 1 16.822 1 19 3.22 19 6.065c0 3.471-3.06 6.316-7.695 10.617L10 17.897l-1.305-1.215z\" fill=\"#2874F0\" fill-rule=\"evenodd\" opacity=\".9\" stroke=\"#FFF\"></path></svg></div></div></div></div>,\n",
       " <div class=\"_1CzqlW\"><div class=\"_3liAhj _2Vsm67\"><a class=\"Zhf2z-\" href=\"/samsung-galaxy-a30-red-64-gb/p/itmfe7gzquf7gh3e?pid=MOBFE4CWZMKTZGFH&amp;lid=LSTMOBFE4CWZMKTZGFHKGUSGY&amp;marketplace=FLIPKART&amp;fm=neo%2Fmerchandising&amp;iid=M_2d5c65b1-0a48-4d62-a30e-da2eeb2a43ae_1_1BUWY8OBA8L9_MC.MOBFE4CWZMKTZGFH&amp;otracker=clp_pmu_v2_Latest%2BSamsung%2Bmobiles%2B_5_1.productCard.PMU_V2_Samsung%2BGalaxy%2BA30%2B%2528Red%252C%2B64%2BGB%2529_samsung-mobile-store_MOBFE4CWZMKTZGFH_neo%2Fmerchandising_4&amp;cid=MOBFE4CWZMKTZGFH\" rel=\"noopener noreferrer\" target=\"_blank\" title=\"Samsung Galaxy A30 (Red, 64 GB)\"><div class=\"_8Vcv_L\"><div><div class=\"_3BTv9X\" style=\"height:150px;width:150px\"><img alt=\"Samsung Galaxy A30 (Red, 64 GB)\" class=\"_1Nyybr\" src=\"//img1a.flixcart.com/www/linchpin/fk-cp-zion/img/placeholder_9951d0.svg\"/></div></div></div><div class=\"_3aV9Tq\"><span class=\"rIHMVr\">Coming Soon</span></div></a><div><div><a class=\"_2cLu-l\" href=\"/samsung-galaxy-a30-red-64-gb/p/itmfe7gzquf7gh3e?pid=MOBFE4CWZMKTZGFH&amp;lid=LSTMOBFE4CWZMKTZGFHKGUSGY&amp;marketplace=FLIPKART&amp;fm=neo%2Fmerchandising&amp;iid=M_2d5c65b1-0a48-4d62-a30e-da2eeb2a43ae_1_1BUWY8OBA8L9_MC.MOBFE4CWZMKTZGFH&amp;otracker=clp_pmu_v2_Latest%2BSamsung%2Bmobiles%2B_5_1.productCard.PMU_V2_Samsung%2BGalaxy%2BA30%2B%2528Red%252C%2B64%2BGB%2529_samsung-mobile-store_MOBFE4CWZMKTZGFH_neo%2Fmerchandising_4&amp;cid=MOBFE4CWZMKTZGFH\" rel=\"noopener noreferrer\" target=\"_blank\" title=\"Samsung Galaxy A30 (Red, 64 GB)\">Samsung Galaxy A30 (Red, 64 GB)</a></div><div class=\"niH0FQ _36Fcw_\"><span class=\"_2_KrJI\" id=\"productRating_LSTMOBFE4CWZMKTZGFHKGUSGY_MOBFE4CWZMKTZGFH_\"><div class=\"hGSR34\">4.4<img class=\"_2lQ_WZ\" src=\"data:image/svg+xml;base64,PHN2ZyB4bWxucz0iaHR0cDovL3d3dy53My5vcmcvMjAwMC9zdmciIHdpZHRoPSIxMyIgaGVpZ2h0PSIxMiI+PHBhdGggZmlsbD0iI0ZGRiIgZD0iTTYuNSA5LjQzOWwtMy42NzQgMi4yMy45NC00LjI2LTMuMjEtMi44ODMgNC4yNTQtLjQwNEw2LjUuMTEybDEuNjkgNC4wMSA0LjI1NC40MDQtMy4yMSAyLjg4Mi45NCA0LjI2eiIvPjwvc3ZnPg==\"/></div></span><span class=\"_38sUEc\">(1,158)</span></div><div class=\"_1Vfi6u\"><div class=\"_1uv9Cb\"><div class=\"_1vC4OE\">₹16,990</div><div class=\"_3auQ3N\">₹<!-- -->18,000</div><div class=\"VGWI6T\"><span>5% off</span></div></div></div></div><div class=\"_3gDSOa _3iGnbq\"><div class=\"DsQ2eg\"><svg class=\"_2oLiqr\" height=\"16\" viewbox=\"0 0 20 16\" width=\"16\" xmlns=\"http://www.w3.org/2000/svg\"><path class=\"_35Y7Yo\" d=\"M8.695 16.682C4.06 12.382 1 9.536 1 6.065 1 3.219 3.178 1 5.95 1c1.566 0 3.069.746 4.05 1.915C10.981 1.745 12.484 1 14.05 1 16.822 1 19 3.22 19 6.065c0 3.471-3.06 6.316-7.695 10.617L10 17.897l-1.305-1.215z\" fill=\"#2874F0\" fill-rule=\"evenodd\" opacity=\".9\" stroke=\"#FFF\"></path></svg></div></div></div></div>,\n",
       " <div class=\"_1CzqlW\"><div class=\"_3liAhj _2Vsm67\"><a class=\"Zhf2z-\" href=\"/samsung-galaxy-a50-blue-64-gb/p/itmfe4cssxfzcph3?pid=MOBFE4CSRHGF4ETQ&amp;lid=LSTMOBFE4CSRHGF4ETQGJSQUK&amp;marketplace=FLIPKART&amp;fm=neo%2Fmerchandising&amp;iid=M_2d5c65b1-0a48-4d62-a30e-da2eeb2a43ae_1_1BUWY8OBA8L9_MC.MOBFE4CSRHGF4ETQ&amp;otracker=clp_pmu_v2_Latest%2BSamsung%2Bmobiles%2B_6_1.productCard.PMU_V2_Samsung%2BGalaxy%2BA50%2B%2528Blue%252C%2B64%2BGB%2529_samsung-mobile-store_MOBFE4CSRHGF4ETQ_neo%2Fmerchandising_5&amp;cid=MOBFE4CSRHGF4ETQ\" rel=\"noopener noreferrer\" target=\"_blank\" title=\"Samsung Galaxy A50 (Blue, 64 GB)\"><div class=\"_8Vcv_L\"><div><div class=\"_3BTv9X\" style=\"height:150px;width:150px\"><img alt=\"Samsung Galaxy A50 (Blue, 64 GB)\" class=\"_1Nyybr\" src=\"//img1a.flixcart.com/www/linchpin/fk-cp-zion/img/placeholder_9951d0.svg\"/></div></div></div></a><div><div><a class=\"_2cLu-l\" href=\"/samsung-galaxy-a50-blue-64-gb/p/itmfe4cssxfzcph3?pid=MOBFE4CSRHGF4ETQ&amp;lid=LSTMOBFE4CSRHGF4ETQGJSQUK&amp;marketplace=FLIPKART&amp;fm=neo%2Fmerchandising&amp;iid=M_2d5c65b1-0a48-4d62-a30e-da2eeb2a43ae_1_1BUWY8OBA8L9_MC.MOBFE4CSRHGF4ETQ&amp;otracker=clp_pmu_v2_Latest%2BSamsung%2Bmobiles%2B_6_1.productCard.PMU_V2_Samsung%2BGalaxy%2BA50%2B%2528Blue%252C%2B64%2BGB%2529_samsung-mobile-store_MOBFE4CSRHGF4ETQ_neo%2Fmerchandising_5&amp;cid=MOBFE4CSRHGF4ETQ\" rel=\"noopener noreferrer\" target=\"_blank\" title=\"Samsung Galaxy A50 (Blue, 64 GB)\">Samsung Galaxy A50 (Blue, 64 GB)</a></div><div class=\"niH0FQ _36Fcw_\"><span class=\"_2_KrJI\" id=\"productRating_LSTMOBFE4CSRHGF4ETQGJSQUK_MOBFE4CSRHGF4ETQ_\"><div class=\"hGSR34\">4.3<img class=\"_2lQ_WZ\" src=\"data:image/svg+xml;base64,PHN2ZyB4bWxucz0iaHR0cDovL3d3dy53My5vcmcvMjAwMC9zdmciIHdpZHRoPSIxMyIgaGVpZ2h0PSIxMiI+PHBhdGggZmlsbD0iI0ZGRiIgZD0iTTYuNSA5LjQzOWwtMy42NzQgMi4yMy45NC00LjI2LTMuMjEtMi44ODMgNC4yNTQtLjQwNEw2LjUuMTEybDEuNjkgNC4wMSA0LjI1NC40MDQtMy4yMSAyLjg4Mi45NCA0LjI2eiIvPjwvc3ZnPg==\"/></div></span><span class=\"_38sUEc\">(548)</span></div><div class=\"_1Vfi6u\"><div class=\"_1uv9Cb\"><div class=\"_1vC4OE\">₹22,990</div><div class=\"_3auQ3N\">₹<!-- -->24,000</div><div class=\"VGWI6T\"><span>4% off</span></div></div></div></div><div class=\"_3gDSOa _3iGnbq\"><div class=\"DsQ2eg\"><svg class=\"_2oLiqr\" height=\"16\" viewbox=\"0 0 20 16\" width=\"16\" xmlns=\"http://www.w3.org/2000/svg\"><path class=\"_35Y7Yo\" d=\"M8.695 16.682C4.06 12.382 1 9.536 1 6.065 1 3.219 3.178 1 5.95 1c1.566 0 3.069.746 4.05 1.915C10.981 1.745 12.484 1 14.05 1 16.822 1 19 3.22 19 6.065c0 3.471-3.06 6.316-7.695 10.617L10 17.897l-1.305-1.215z\" fill=\"#2874F0\" fill-rule=\"evenodd\" opacity=\".9\" stroke=\"#FFF\"></path></svg></div></div></div></div>,\n",
       " <div class=\"_1CzqlW\"><div class=\"_3liAhj _2Vsm67\"><a class=\"Zhf2z-\" href=\"/samsung-metro-313-dual-sim/p/itmeugbhqspvrmua?pid=MOBEUGBKUHTFERGW&amp;lid=LSTMOBEUGBKUHTFERGWERI29V&amp;marketplace=FLIPKART&amp;fm=neo%2Fmerchandising&amp;iid=M_2d5c65b1-0a48-4d62-a30e-da2eeb2a43ae_2_AZNUODFBKB_MC.MOBEUGBKUHTFERGW&amp;otracker=clp_pmu_v2_Budget%2BPhones%2BBelow%2B%25E2%2582%25B95000_1_2.productCard.PMU_V2_Samsung%2BMetro%2B313%2BDual%2BSim_samsung-mobile-store_MOBEUGBKUHTFERGW_neo%2Fmerchandising_0&amp;cid=MOBEUGBKUHTFERGW\" rel=\"noopener noreferrer\" target=\"_blank\" title=\"Samsung Metro 313 Dual Sim\"><div class=\"_8Vcv_L\"><div><div class=\"_3BTv9X\" style=\"height:150px;width:150px\"><img alt=\"Samsung Metro 313 Dual Sim\" class=\"_1Nyybr\" src=\"//img1a.flixcart.com/www/linchpin/fk-cp-zion/img/placeholder_9951d0.svg\"/></div></div></div></a><div><div><a class=\"_2cLu-l\" href=\"/samsung-metro-313-dual-sim/p/itmeugbhqspvrmua?pid=MOBEUGBKUHTFERGW&amp;lid=LSTMOBEUGBKUHTFERGWERI29V&amp;marketplace=FLIPKART&amp;fm=neo%2Fmerchandising&amp;iid=M_2d5c65b1-0a48-4d62-a30e-da2eeb2a43ae_2_AZNUODFBKB_MC.MOBEUGBKUHTFERGW&amp;otracker=clp_pmu_v2_Budget%2BPhones%2BBelow%2B%25E2%2582%25B95000_1_2.productCard.PMU_V2_Samsung%2BMetro%2B313%2BDual%2BSim_samsung-mobile-store_MOBEUGBKUHTFERGW_neo%2Fmerchandising_0&amp;cid=MOBEUGBKUHTFERGW\" rel=\"noopener noreferrer\" target=\"_blank\" title=\"Samsung Metro 313 Dual Sim\">Samsung Metro 313 Dual Sim</a></div><div class=\"niH0FQ _36Fcw_\"><span class=\"_2_KrJI\" id=\"productRating_LSTMOBEUGBKUHTFERGWERI29V_MOBEUGBKUHTFERGW_\"><div class=\"hGSR34\">4.2<img class=\"_2lQ_WZ\" src=\"data:image/svg+xml;base64,PHN2ZyB4bWxucz0iaHR0cDovL3d3dy53My5vcmcvMjAwMC9zdmciIHdpZHRoPSIxMyIgaGVpZ2h0PSIxMiI+PHBhdGggZmlsbD0iI0ZGRiIgZD0iTTYuNSA5LjQzOWwtMy42NzQgMi4yMy45NC00LjI2LTMuMjEtMi44ODMgNC4yNTQtLjQwNEw2LjUuMTEybDEuNjkgNC4wMSA0LjI1NC40MDQtMy4yMSAyLjg4Mi45NCA0LjI2eiIvPjwvc3ZnPg==\"/></div></span><span class=\"_38sUEc\">(4,786)</span></div><div class=\"_1Vfi6u\"><div class=\"_1uv9Cb\"><div class=\"_1vC4OE\">₹2,025</div><div class=\"_3auQ3N\">₹<!-- -->2,120</div><div class=\"VGWI6T\"><span>4% off</span></div></div></div></div><div class=\"_3gDSOa _3iGnbq\"><div class=\"DsQ2eg\"><svg class=\"_2oLiqr\" height=\"16\" viewbox=\"0 0 20 16\" width=\"16\" xmlns=\"http://www.w3.org/2000/svg\"><path class=\"_35Y7Yo\" d=\"M8.695 16.682C4.06 12.382 1 9.536 1 6.065 1 3.219 3.178 1 5.95 1c1.566 0 3.069.746 4.05 1.915C10.981 1.745 12.484 1 14.05 1 16.822 1 19 3.22 19 6.065c0 3.471-3.06 6.316-7.695 10.617L10 17.897l-1.305-1.215z\" fill=\"#2874F0\" fill-rule=\"evenodd\" opacity=\".9\" stroke=\"#FFF\"></path></svg></div></div></div></div>,\n",
       " <div class=\"_1CzqlW\"><div class=\"_3liAhj _2Vsm67\"><a class=\"Zhf2z-\" href=\"/samsung-guru-music-2/p/itme9tgwmffh64cy?pid=MOBE9TGVE7ZBRAEN&amp;lid=LSTMOBE9TGVE7ZBRAENISQH05&amp;marketplace=FLIPKART&amp;fm=neo%2Fmerchandising&amp;iid=M_2d5c65b1-0a48-4d62-a30e-da2eeb2a43ae_2_AZNUODFBKB_MC.MOBE9TGVE7ZBRAEN&amp;otracker=clp_pmu_v2_Budget%2BPhones%2BBelow%2B%25E2%2582%25B95000_2_2.productCard.PMU_V2_Samsung%2BGuru%2BMusic%2B2_samsung-mobile-store_MOBE9TGVE7ZBRAEN_neo%2Fmerchandising_1&amp;cid=MOBE9TGVE7ZBRAEN\" rel=\"noopener noreferrer\" target=\"_blank\" title=\"Samsung Guru Music 2\"><div class=\"_8Vcv_L\"><div><div class=\"_3BTv9X\" style=\"height:150px;width:150px\"><img alt=\"Samsung Guru Music 2\" class=\"_1Nyybr\" src=\"//img1a.flixcart.com/www/linchpin/fk-cp-zion/img/placeholder_9951d0.svg\"/></div></div></div></a><div><div><a class=\"_2cLu-l\" href=\"/samsung-guru-music-2/p/itme9tgwmffh64cy?pid=MOBE9TGVE7ZBRAEN&amp;lid=LSTMOBE9TGVE7ZBRAENISQH05&amp;marketplace=FLIPKART&amp;fm=neo%2Fmerchandising&amp;iid=M_2d5c65b1-0a48-4d62-a30e-da2eeb2a43ae_2_AZNUODFBKB_MC.MOBE9TGVE7ZBRAEN&amp;otracker=clp_pmu_v2_Budget%2BPhones%2BBelow%2B%25E2%2582%25B95000_2_2.productCard.PMU_V2_Samsung%2BGuru%2BMusic%2B2_samsung-mobile-store_MOBE9TGVE7ZBRAEN_neo%2Fmerchandising_1&amp;cid=MOBE9TGVE7ZBRAEN\" rel=\"noopener noreferrer\" target=\"_blank\" title=\"Samsung Guru Music 2\">Samsung Guru Music 2</a></div><div class=\"niH0FQ _36Fcw_\"><span class=\"_2_KrJI\" id=\"productRating_LSTMOBE9TGVE7ZBRAENISQH05_MOBE9TGVE7ZBRAEN_\"><div class=\"hGSR34\">4.3<img class=\"_2lQ_WZ\" src=\"data:image/svg+xml;base64,PHN2ZyB4bWxucz0iaHR0cDovL3d3dy53My5vcmcvMjAwMC9zdmciIHdpZHRoPSIxMyIgaGVpZ2h0PSIxMiI+PHBhdGggZmlsbD0iI0ZGRiIgZD0iTTYuNSA5LjQzOWwtMy42NzQgMi4yMy45NC00LjI2LTMuMjEtMi44ODMgNC4yNTQtLjQwNEw2LjUuMTEybDEuNjkgNC4wMSA0LjI1NC40MDQtMy4yMSAyLjg4Mi45NCA0LjI2eiIvPjwvc3ZnPg==\"/></div></span><span class=\"_38sUEc\">(84,821)</span></div><div class=\"_1Vfi6u\"><div class=\"_1uv9Cb\"><div class=\"_1vC4OE\">₹1,625</div><div class=\"_3auQ3N\">₹<!-- -->1,760</div><div class=\"VGWI6T\"><span>7% off</span></div></div></div></div><div class=\"_3gDSOa _3iGnbq\"><div class=\"DsQ2eg\"><svg class=\"_2oLiqr\" height=\"16\" viewbox=\"0 0 20 16\" width=\"16\" xmlns=\"http://www.w3.org/2000/svg\"><path class=\"_35Y7Yo\" d=\"M8.695 16.682C4.06 12.382 1 9.536 1 6.065 1 3.219 3.178 1 5.95 1c1.566 0 3.069.746 4.05 1.915C10.981 1.745 12.484 1 14.05 1 16.822 1 19 3.22 19 6.065c0 3.471-3.06 6.316-7.695 10.617L10 17.897l-1.305-1.215z\" fill=\"#2874F0\" fill-rule=\"evenodd\" opacity=\".9\" stroke=\"#FFF\"></path></svg></div></div></div></div>,\n",
       " <div class=\"_1CzqlW\"><div class=\"_3liAhj _2Vsm67\"><a class=\"Zhf2z-\" href=\"/samsung-b351e-metro-350/p/itmevhdgqxmhvekw?pid=MOBEVHDGHUXFPUXU&amp;lid=LSTMOBEVHDGHUXFPUXU81ADIS&amp;marketplace=FLIPKART&amp;fm=neo%2Fmerchandising&amp;iid=M_2d5c65b1-0a48-4d62-a30e-da2eeb2a43ae_2_AZNUODFBKB_MC.MOBEVHDGHUXFPUXU&amp;otracker=clp_pmu_v2_Budget%2BPhones%2BBelow%2B%25E2%2582%25B95000_3_2.productCard.PMU_V2_Samsung%2BB351E%252FMetro%2B350_samsung-mobile-store_MOBEVHDGHUXFPUXU_neo%2Fmerchandising_2&amp;cid=MOBEVHDGHUXFPUXU\" rel=\"noopener noreferrer\" target=\"_blank\" title=\"Samsung B351E/Metro 350\"><div class=\"_8Vcv_L\"><div><div class=\"_3BTv9X\" style=\"height:150px;width:150px\"><img alt=\"Samsung B351E/Metro 350\" class=\"_1Nyybr\" src=\"//img1a.flixcart.com/www/linchpin/fk-cp-zion/img/placeholder_9951d0.svg\"/></div></div></div></a><div><div><a class=\"_2cLu-l\" href=\"/samsung-b351e-metro-350/p/itmevhdgqxmhvekw?pid=MOBEVHDGHUXFPUXU&amp;lid=LSTMOBEVHDGHUXFPUXU81ADIS&amp;marketplace=FLIPKART&amp;fm=neo%2Fmerchandising&amp;iid=M_2d5c65b1-0a48-4d62-a30e-da2eeb2a43ae_2_AZNUODFBKB_MC.MOBEVHDGHUXFPUXU&amp;otracker=clp_pmu_v2_Budget%2BPhones%2BBelow%2B%25E2%2582%25B95000_3_2.productCard.PMU_V2_Samsung%2BB351E%252FMetro%2B350_samsung-mobile-store_MOBEVHDGHUXFPUXU_neo%2Fmerchandising_2&amp;cid=MOBEVHDGHUXFPUXU\" rel=\"noopener noreferrer\" target=\"_blank\" title=\"Samsung B351E/Metro 350\">Samsung B351E/Metro 350</a></div><div class=\"niH0FQ _36Fcw_\"><span class=\"_2_KrJI\" id=\"productRating_LSTMOBEVHDGHUXFPUXU81ADIS_MOBEVHDGHUXFPUXU_\"><div class=\"hGSR34\">4.1<img class=\"_2lQ_WZ\" src=\"data:image/svg+xml;base64,PHN2ZyB4bWxucz0iaHR0cDovL3d3dy53My5vcmcvMjAwMC9zdmciIHdpZHRoPSIxMyIgaGVpZ2h0PSIxMiI+PHBhdGggZmlsbD0iI0ZGRiIgZD0iTTYuNSA5LjQzOWwtMy42NzQgMi4yMy45NC00LjI2LTMuMjEtMi44ODMgNC4yNTQtLjQwNEw2LjUuMTEybDEuNjkgNC4wMSA0LjI1NC40MDQtMy4yMSAyLjg4Mi45NCA0LjI2eiIvPjwvc3ZnPg==\"/></div></span><span class=\"_38sUEc\">(7,785)</span></div><div class=\"_1Vfi6u\"><div class=\"_1uv9Cb\"><div class=\"_1vC4OE\">₹2,800</div></div></div></div><div class=\"_3gDSOa _3iGnbq\"><div class=\"DsQ2eg\"><svg class=\"_2oLiqr\" height=\"16\" viewbox=\"0 0 20 16\" width=\"16\" xmlns=\"http://www.w3.org/2000/svg\"><path class=\"_35Y7Yo\" d=\"M8.695 16.682C4.06 12.382 1 9.536 1 6.065 1 3.219 3.178 1 5.95 1c1.566 0 3.069.746 4.05 1.915C10.981 1.745 12.484 1 14.05 1 16.822 1 19 3.22 19 6.065c0 3.471-3.06 6.316-7.695 10.617L10 17.897l-1.305-1.215z\" fill=\"#2874F0\" fill-rule=\"evenodd\" opacity=\".9\" stroke=\"#FFF\"></path></svg></div></div></div></div>,\n",
       " <div class=\"_1CzqlW\"><div class=\"_3liAhj _2Vsm67\"><a class=\"Zhf2z-\" href=\"/samsung-guru-1200/p/itme6gz6jczu5ygz?pid=MOBDADKKAEHYYA3G&amp;lid=LSTMOBDADKKAEHYYA3GOCHM3X&amp;marketplace=FLIPKART&amp;fm=neo%2Fmerchandising&amp;iid=M_2d5c65b1-0a48-4d62-a30e-da2eeb2a43ae_2_AZNUODFBKB_MC.MOBDADKKAEHYYA3G&amp;otracker=clp_pmu_v2_Budget%2BPhones%2BBelow%2B%25E2%2582%25B95000_4_2.productCard.PMU_V2_Samsung%2BGuru%2B1200_samsung-mobile-store_MOBDADKKAEHYYA3G_neo%2Fmerchandising_3&amp;cid=MOBDADKKAEHYYA3G\" rel=\"noopener noreferrer\" target=\"_blank\" title=\"Samsung Guru 1200\"><div class=\"_8Vcv_L\"><div><div class=\"_3BTv9X\" style=\"height:150px;width:150px\"><img alt=\"Samsung Guru 1200\" class=\"_1Nyybr\" src=\"//img1a.flixcart.com/www/linchpin/fk-cp-zion/img/placeholder_9951d0.svg\"/></div></div></div></a><div><div><a class=\"_2cLu-l\" href=\"/samsung-guru-1200/p/itme6gz6jczu5ygz?pid=MOBDADKKAEHYYA3G&amp;lid=LSTMOBDADKKAEHYYA3GOCHM3X&amp;marketplace=FLIPKART&amp;fm=neo%2Fmerchandising&amp;iid=M_2d5c65b1-0a48-4d62-a30e-da2eeb2a43ae_2_AZNUODFBKB_MC.MOBDADKKAEHYYA3G&amp;otracker=clp_pmu_v2_Budget%2BPhones%2BBelow%2B%25E2%2582%25B95000_4_2.productCard.PMU_V2_Samsung%2BGuru%2B1200_samsung-mobile-store_MOBDADKKAEHYYA3G_neo%2Fmerchandising_3&amp;cid=MOBDADKKAEHYYA3G\" rel=\"noopener noreferrer\" target=\"_blank\" title=\"Samsung Guru 1200\">Samsung Guru 1200</a></div><div class=\"niH0FQ _36Fcw_\"><span class=\"_2_KrJI\" id=\"productRating_LSTMOBDADKKAEHYYA3GOCHM3X_MOBDADKKAEHYYA3G_\"><div class=\"hGSR34\">4.2<img class=\"_2lQ_WZ\" src=\"data:image/svg+xml;base64,PHN2ZyB4bWxucz0iaHR0cDovL3d3dy53My5vcmcvMjAwMC9zdmciIHdpZHRoPSIxMyIgaGVpZ2h0PSIxMiI+PHBhdGggZmlsbD0iI0ZGRiIgZD0iTTYuNSA5LjQzOWwtMy42NzQgMi4yMy45NC00LjI2LTMuMjEtMi44ODMgNC4yNTQtLjQwNEw2LjUuMTEybDEuNjkgNC4wMSA0LjI1NC40MDQtMy4yMSAyLjg4Mi45NCA0LjI2eiIvPjwvc3ZnPg==\"/></div></span><span class=\"_38sUEc\">(71,615)</span></div><div class=\"_1Vfi6u\"><div class=\"_1uv9Cb\"><div class=\"_1vC4OE\">₹1,100</div><div class=\"_3auQ3N\">₹<!-- -->1,260</div><div class=\"VGWI6T\"><span>12% off</span></div></div></div></div><div class=\"_3gDSOa _3iGnbq\"><div class=\"DsQ2eg\"><svg class=\"_2oLiqr\" height=\"16\" viewbox=\"0 0 20 16\" width=\"16\" xmlns=\"http://www.w3.org/2000/svg\"><path class=\"_35Y7Yo\" d=\"M8.695 16.682C4.06 12.382 1 9.536 1 6.065 1 3.219 3.178 1 5.95 1c1.566 0 3.069.746 4.05 1.915C10.981 1.745 12.484 1 14.05 1 16.822 1 19 3.22 19 6.065c0 3.471-3.06 6.316-7.695 10.617L10 17.897l-1.305-1.215z\" fill=\"#2874F0\" fill-rule=\"evenodd\" opacity=\".9\" stroke=\"#FFF\"></path></svg></div></div></div></div>,\n",
       " <div class=\"_1CzqlW\"><div class=\"_3liAhj _2Vsm67\"><a class=\"Zhf2z-\" href=\"/samsung-guru-fm-plus/p/itmevt7vgvhzyfdh?pid=MOBEA4FVFGGE9VTW&amp;lid=LSTMOBEA4FVFGGE9VTWSOSF3M&amp;marketplace=FLIPKART&amp;fm=neo%2Fmerchandising&amp;iid=M_2d5c65b1-0a48-4d62-a30e-da2eeb2a43ae_2_AZNUODFBKB_MC.MOBEA4FVFGGE9VTW&amp;otracker=clp_pmu_v2_Budget%2BPhones%2BBelow%2B%25E2%2582%25B95000_5_2.productCard.PMU_V2_Samsung%2BGuru%2BFM%2BPlus_samsung-mobile-store_MOBEA4FVFGGE9VTW_neo%2Fmerchandising_4&amp;cid=MOBEA4FVFGGE9VTW\" rel=\"noopener noreferrer\" target=\"_blank\" title=\"Samsung Guru FM Plus\"><div class=\"_8Vcv_L\"><div><div class=\"_3BTv9X\" style=\"height:150px;width:150px\"><img alt=\"Samsung Guru FM Plus\" class=\"_1Nyybr\" src=\"//img1a.flixcart.com/www/linchpin/fk-cp-zion/img/placeholder_9951d0.svg\"/></div></div></div></a><div><div><a class=\"_2cLu-l\" href=\"/samsung-guru-fm-plus/p/itmevt7vgvhzyfdh?pid=MOBEA4FVFGGE9VTW&amp;lid=LSTMOBEA4FVFGGE9VTWSOSF3M&amp;marketplace=FLIPKART&amp;fm=neo%2Fmerchandising&amp;iid=M_2d5c65b1-0a48-4d62-a30e-da2eeb2a43ae_2_AZNUODFBKB_MC.MOBEA4FVFGGE9VTW&amp;otracker=clp_pmu_v2_Budget%2BPhones%2BBelow%2B%25E2%2582%25B95000_5_2.productCard.PMU_V2_Samsung%2BGuru%2BFM%2BPlus_samsung-mobile-store_MOBEA4FVFGGE9VTW_neo%2Fmerchandising_4&amp;cid=MOBEA4FVFGGE9VTW\" rel=\"noopener noreferrer\" target=\"_blank\" title=\"Samsung Guru FM Plus\">Samsung Guru FM Plus</a></div><div class=\"niH0FQ _36Fcw_\"><span class=\"_2_KrJI\" id=\"productRating_LSTMOBEA4FVFGGE9VTWSOSF3M_MOBEA4FVFGGE9VTW_\"><div class=\"hGSR34\">4.2<img class=\"_2lQ_WZ\" src=\"data:image/svg+xml;base64,PHN2ZyB4bWxucz0iaHR0cDovL3d3dy53My5vcmcvMjAwMC9zdmciIHdpZHRoPSIxMyIgaGVpZ2h0PSIxMiI+PHBhdGggZmlsbD0iI0ZGRiIgZD0iTTYuNSA5LjQzOWwtMy42NzQgMi4yMy45NC00LjI2LTMuMjEtMi44ODMgNC4yNTQtLjQwNEw2LjUuMTEybDEuNjkgNC4wMSA0LjI1NC40MDQtMy4yMSAyLjg4Mi45NCA0LjI2eiIvPjwvc3ZnPg==\"/></div></span><span class=\"_38sUEc\">(8,571)</span></div><div class=\"_1Vfi6u\"><div class=\"_1uv9Cb\"><div class=\"_1vC4OE\">₹1,473</div><div class=\"_3auQ3N\">₹<!-- -->1,475</div></div></div></div><div class=\"_3gDSOa _3iGnbq\"><div class=\"DsQ2eg\"><svg class=\"_2oLiqr\" height=\"16\" viewbox=\"0 0 20 16\" width=\"16\" xmlns=\"http://www.w3.org/2000/svg\"><path class=\"_35Y7Yo\" d=\"M8.695 16.682C4.06 12.382 1 9.536 1 6.065 1 3.219 3.178 1 5.95 1c1.566 0 3.069.746 4.05 1.915C10.981 1.745 12.484 1 14.05 1 16.822 1 19 3.22 19 6.065c0 3.471-3.06 6.316-7.695 10.617L10 17.897l-1.305-1.215z\" fill=\"#2874F0\" fill-rule=\"evenodd\" opacity=\".9\" stroke=\"#FFF\"></path></svg></div></div></div></div>,\n",
       " <div class=\"_1CzqlW\"><div class=\"_3liAhj _2Vsm67\"><a class=\"Zhf2z-\" href=\"/samsung-guru-music-2/p/itme9zfpajsaffyj?pid=MOBE9NT8G2QRT2Z4&amp;lid=LSTMOBE9NT8G2QRT2Z41SMXRY&amp;marketplace=FLIPKART&amp;fm=neo%2Fmerchandising&amp;iid=M_2d5c65b1-0a48-4d62-a30e-da2eeb2a43ae_2_AZNUODFBKB_MC.MOBE9NT8G2QRT2Z4&amp;otracker=clp_pmu_v2_Budget%2BPhones%2BBelow%2B%25E2%2582%25B95000_6_2.productCard.PMU_V2_Samsung%2BGuru%2BMusic%2B2_samsung-mobile-store_MOBE9NT8G2QRT2Z4_neo%2Fmerchandising_5&amp;cid=MOBE9NT8G2QRT2Z4\" rel=\"noopener noreferrer\" target=\"_blank\" title=\"Samsung Guru Music 2\"><div class=\"_8Vcv_L\"><div><div class=\"_3BTv9X\" style=\"height:150px;width:150px\"><img alt=\"Samsung Guru Music 2\" class=\"_1Nyybr\" src=\"//img1a.flixcart.com/www/linchpin/fk-cp-zion/img/placeholder_9951d0.svg\"/></div></div></div></a><div><div><a class=\"_2cLu-l\" href=\"/samsung-guru-music-2/p/itme9zfpajsaffyj?pid=MOBE9NT8G2QRT2Z4&amp;lid=LSTMOBE9NT8G2QRT2Z41SMXRY&amp;marketplace=FLIPKART&amp;fm=neo%2Fmerchandising&amp;iid=M_2d5c65b1-0a48-4d62-a30e-da2eeb2a43ae_2_AZNUODFBKB_MC.MOBE9NT8G2QRT2Z4&amp;otracker=clp_pmu_v2_Budget%2BPhones%2BBelow%2B%25E2%2582%25B95000_6_2.productCard.PMU_V2_Samsung%2BGuru%2BMusic%2B2_samsung-mobile-store_MOBE9NT8G2QRT2Z4_neo%2Fmerchandising_5&amp;cid=MOBE9NT8G2QRT2Z4\" rel=\"noopener noreferrer\" target=\"_blank\" title=\"Samsung Guru Music 2\">Samsung Guru Music 2</a></div><div class=\"niH0FQ _36Fcw_\"><span class=\"_2_KrJI\" id=\"productRating_LSTMOBE9NT8G2QRT2Z41SMXRY_MOBE9NT8G2QRT2Z4_\"><div class=\"hGSR34\">4.3<img class=\"_2lQ_WZ\" src=\"data:image/svg+xml;base64,PHN2ZyB4bWxucz0iaHR0cDovL3d3dy53My5vcmcvMjAwMC9zdmciIHdpZHRoPSIxMyIgaGVpZ2h0PSIxMiI+PHBhdGggZmlsbD0iI0ZGRiIgZD0iTTYuNSA5LjQzOWwtMy42NzQgMi4yMy45NC00LjI2LTMuMjEtMi44ODMgNC4yNTQtLjQwNEw2LjUuMTEybDEuNjkgNC4wMSA0LjI1NC40MDQtMy4yMSAyLjg4Mi45NCA0LjI2eiIvPjwvc3ZnPg==\"/></div></span><span class=\"_38sUEc\">(84,821)</span></div><div class=\"_1Vfi6u\"><div class=\"_1uv9Cb\"><div class=\"_1vC4OE\">₹1,625</div><div class=\"_3auQ3N\">₹<!-- -->1,760</div><div class=\"VGWI6T\"><span>7% off</span></div></div></div></div><div class=\"_3gDSOa _3iGnbq\"><div class=\"DsQ2eg\"><svg class=\"_2oLiqr\" height=\"16\" viewbox=\"0 0 20 16\" width=\"16\" xmlns=\"http://www.w3.org/2000/svg\"><path class=\"_35Y7Yo\" d=\"M8.695 16.682C4.06 12.382 1 9.536 1 6.065 1 3.219 3.178 1 5.95 1c1.566 0 3.069.746 4.05 1.915C10.981 1.745 12.484 1 14.05 1 16.822 1 19 3.22 19 6.065c0 3.471-3.06 6.316-7.695 10.617L10 17.897l-1.305-1.215z\" fill=\"#2874F0\" fill-rule=\"evenodd\" opacity=\".9\" stroke=\"#FFF\"></path></svg></div></div></div></div>,\n",
       " <div class=\"_1CzqlW\"><div class=\"_3liAhj _2Vsm67\"><a class=\"Zhf2z-\" href=\"/samsung-on5-pro-black-16-gb/p/itmekgn92wjsmbhz?pid=MOBEKGN98Z54BRWC&amp;lid=LSTMOBEKGN98Z54BRWCBVXZEI&amp;marketplace=FLIPKART&amp;fm=neo%2Fmerchandising&amp;iid=M_2d5c65b1-0a48-4d62-a30e-da2eeb2a43ae_3_MY0YFFW5JE_MC.MOBEKGN98Z54BRWC&amp;otracker=clp_pmu_v2_Samsung%2BMobile%2Bunder%2B%25E2%2582%25B910K_1_3.productCard.PMU_V2_Samsung%2BOn5%2BPro%2B%2528Black%252C%2B16%2BGB%2529_samsung-mobile-store_MOBEKGN98Z54BRWC_neo%2Fmerchandising_0&amp;cid=MOBEKGN98Z54BRWC\" rel=\"noopener noreferrer\" target=\"_blank\" title=\"Samsung On5 Pro (Black, 16 GB)\"><div class=\"_8Vcv_L\"><div><div class=\"_3BTv9X\" style=\"height:150px;width:150px\"><img alt=\"Samsung On5 Pro (Black, 16 GB)\" class=\"_1Nyybr\" src=\"//img1a.flixcart.com/www/linchpin/fk-cp-zion/img/placeholder_9951d0.svg\"/></div></div></div></a><div><div><a class=\"_2cLu-l\" href=\"/samsung-on5-pro-black-16-gb/p/itmekgn92wjsmbhz?pid=MOBEKGN98Z54BRWC&amp;lid=LSTMOBEKGN98Z54BRWCBVXZEI&amp;marketplace=FLIPKART&amp;fm=neo%2Fmerchandising&amp;iid=M_2d5c65b1-0a48-4d62-a30e-da2eeb2a43ae_3_MY0YFFW5JE_MC.MOBEKGN98Z54BRWC&amp;otracker=clp_pmu_v2_Samsung%2BMobile%2Bunder%2B%25E2%2582%25B910K_1_3.productCard.PMU_V2_Samsung%2BOn5%2BPro%2B%2528Black%252C%2B16%2BGB%2529_samsung-mobile-store_MOBEKGN98Z54BRWC_neo%2Fmerchandising_0&amp;cid=MOBEKGN98Z54BRWC\" rel=\"noopener noreferrer\" target=\"_blank\" title=\"Samsung On5 Pro (Black, 16 GB)\">Samsung On5 Pro (Black, 16 GB)</a></div><div class=\"niH0FQ _36Fcw_\"><span class=\"_2_KrJI\" id=\"productRating_LSTMOBEKGN98Z54BRWCBVXZEI_MOBEKGN98Z54BRWC_\"><div class=\"hGSR34\">4.5<img class=\"_2lQ_WZ\" src=\"data:image/svg+xml;base64,PHN2ZyB4bWxucz0iaHR0cDovL3d3dy53My5vcmcvMjAwMC9zdmciIHdpZHRoPSIxMyIgaGVpZ2h0PSIxMiI+PHBhdGggZmlsbD0iI0ZGRiIgZD0iTTYuNSA5LjQzOWwtMy42NzQgMi4yMy45NC00LjI2LTMuMjEtMi44ODMgNC4yNTQtLjQwNEw2LjUuMTEybDEuNjkgNC4wMSA0LjI1NC40MDQtMy4yMSAyLjg4Mi45NCA0LjI2eiIvPjwvc3ZnPg==\"/></div></span><span class=\"_38sUEc\">(26)</span></div><div class=\"_1Vfi6u\"><div class=\"_1uv9Cb\"><div class=\"_1vC4OE\">₹7,499</div><div class=\"_3auQ3N\">₹<!-- -->8,999</div><div class=\"VGWI6T\"><span>16% off</span></div></div></div></div><div class=\"_3gDSOa _3iGnbq\"><div class=\"DsQ2eg\"><svg class=\"_2oLiqr\" height=\"16\" viewbox=\"0 0 20 16\" width=\"16\" xmlns=\"http://www.w3.org/2000/svg\"><path class=\"_35Y7Yo\" d=\"M8.695 16.682C4.06 12.382 1 9.536 1 6.065 1 3.219 3.178 1 5.95 1c1.566 0 3.069.746 4.05 1.915C10.981 1.745 12.484 1 14.05 1 16.822 1 19 3.22 19 6.065c0 3.471-3.06 6.316-7.695 10.617L10 17.897l-1.305-1.215z\" fill=\"#2874F0\" fill-rule=\"evenodd\" opacity=\".9\" stroke=\"#FFF\"></path></svg></div></div></div></div>,\n",
       " <div class=\"_1CzqlW\"><div class=\"_3liAhj _2Vsm67\"><a class=\"Zhf2z-\" href=\"/samsung-galaxy-m10-blue-16-gb/p/itmfdzjyadz2rzwb?pid=MOBFDYVFZ6JYE8YG&amp;lid=LSTMOBFDYVFZ6JYE8YGB9SMRO&amp;marketplace=FLIPKART&amp;fm=neo%2Fmerchandising&amp;iid=M_2d5c65b1-0a48-4d62-a30e-da2eeb2a43ae_3_MY0YFFW5JE_MC.MOBFDYVFZ6JYE8YG&amp;otracker=clp_pmu_v2_Samsung%2BMobile%2Bunder%2B%25E2%2582%25B910K_2_3.productCard.PMU_V2_Samsung%2BGalaxy%2BM10%2B%2528Blue%252C%2B16%2BGB%2529_samsung-mobile-store_MOBFDYVFZ6JYE8YG_neo%2Fmerchandising_1&amp;cid=MOBFDYVFZ6JYE8YG\" rel=\"noopener noreferrer\" target=\"_blank\" title=\"Samsung Galaxy M10 (Blue, 16 GB)\"><div class=\"_8Vcv_L\"><div><div class=\"_3BTv9X\" style=\"height:150px;width:150px\"><img alt=\"Samsung Galaxy M10 (Blue, 16 GB)\" class=\"_1Nyybr\" src=\"//img1a.flixcart.com/www/linchpin/fk-cp-zion/img/placeholder_9951d0.svg\"/></div></div></div></a><div><div><a class=\"_2cLu-l\" href=\"/samsung-galaxy-m10-blue-16-gb/p/itmfdzjyadz2rzwb?pid=MOBFDYVFZ6JYE8YG&amp;lid=LSTMOBFDYVFZ6JYE8YGB9SMRO&amp;marketplace=FLIPKART&amp;fm=neo%2Fmerchandising&amp;iid=M_2d5c65b1-0a48-4d62-a30e-da2eeb2a43ae_3_MY0YFFW5JE_MC.MOBFDYVFZ6JYE8YG&amp;otracker=clp_pmu_v2_Samsung%2BMobile%2Bunder%2B%25E2%2582%25B910K_2_3.productCard.PMU_V2_Samsung%2BGalaxy%2BM10%2B%2528Blue%252C%2B16%2BGB%2529_samsung-mobile-store_MOBFDYVFZ6JYE8YG_neo%2Fmerchandising_1&amp;cid=MOBFDYVFZ6JYE8YG\" rel=\"noopener noreferrer\" target=\"_blank\" title=\"Samsung Galaxy M10 (Blue, 16 GB)\">Samsung Galaxy M10 (Blue, 16 GB)</a></div><div class=\"niH0FQ _36Fcw_\"><span class=\"_2_KrJI\" id=\"productRating_LSTMOBFDYVFZ6JYE8YGB9SMRO_MOBFDYVFZ6JYE8YG_\"><div class=\"hGSR34\">4.2<img class=\"_2lQ_WZ\" src=\"data:image/svg+xml;base64,PHN2ZyB4bWxucz0iaHR0cDovL3d3dy53My5vcmcvMjAwMC9zdmciIHdpZHRoPSIxMyIgaGVpZ2h0PSIxMiI+PHBhdGggZmlsbD0iI0ZGRiIgZD0iTTYuNSA5LjQzOWwtMy42NzQgMi4yMy45NC00LjI2LTMuMjEtMi44ODMgNC4yNTQtLjQwNEw2LjUuMTEybDEuNjkgNC4wMSA0LjI1NC40MDQtMy4yMSAyLjg4Mi45NCA0LjI2eiIvPjwvc3ZnPg==\"/></div></span><span class=\"_38sUEc\">(25)</span></div><div class=\"_1Vfi6u\"><div class=\"_1uv9Cb\"><div class=\"_1vC4OE\">₹9,479</div><div class=\"_3auQ3N\">₹<!-- -->9,999</div><div class=\"VGWI6T\"><span>5% off</span></div></div></div></div><div class=\"_3gDSOa _3iGnbq\"><div class=\"DsQ2eg\"><svg class=\"_2oLiqr\" height=\"16\" viewbox=\"0 0 20 16\" width=\"16\" xmlns=\"http://www.w3.org/2000/svg\"><path class=\"_35Y7Yo\" d=\"M8.695 16.682C4.06 12.382 1 9.536 1 6.065 1 3.219 3.178 1 5.95 1c1.566 0 3.069.746 4.05 1.915C10.981 1.745 12.484 1 14.05 1 16.822 1 19 3.22 19 6.065c0 3.471-3.06 6.316-7.695 10.617L10 17.897l-1.305-1.215z\" fill=\"#2874F0\" fill-rule=\"evenodd\" opacity=\".9\" stroke=\"#FFF\"></path></svg></div></div></div></div>,\n",
       " <div class=\"_1CzqlW\"><div class=\"_3liAhj _2Vsm67\"><a class=\"Zhf2z-\" href=\"/samsung-galaxy-j4-plus-gold-32-gb/p/itmf94c46zeb5st5?pid=MOBF94C4VASZ42HU&amp;lid=LSTMOBF94C4VASZ42HUSD3J8X&amp;marketplace=FLIPKART&amp;fm=neo%2Fmerchandising&amp;iid=M_2d5c65b1-0a48-4d62-a30e-da2eeb2a43ae_3_MY0YFFW5JE_MC.MOBF94C4VASZ42HU&amp;otracker=clp_pmu_v2_Samsung%2BMobile%2Bunder%2B%25E2%2582%25B910K_3_3.productCard.PMU_V2_Samsung%2BGalaxy%2BJ4%2BPlus%2B%2528Gold%252C%2B32%2BGB%2529_samsung-mobile-store_MOBF94C4VASZ42HU_neo%2Fmerchandising_2&amp;cid=MOBF94C4VASZ42HU\" rel=\"noopener noreferrer\" target=\"_blank\" title=\"Samsung Galaxy J4 Plus (Gold, 32 GB)\"><div class=\"_8Vcv_L\"><div><div class=\"_3BTv9X\" style=\"height:150px;width:150px\"><img alt=\"Samsung Galaxy J4 Plus (Gold, 32 GB)\" class=\"_1Nyybr\" src=\"//img1a.flixcart.com/www/linchpin/fk-cp-zion/img/placeholder_9951d0.svg\"/></div></div></div></a><div><div><a class=\"_2cLu-l\" href=\"/samsung-galaxy-j4-plus-gold-32-gb/p/itmf94c46zeb5st5?pid=MOBF94C4VASZ42HU&amp;lid=LSTMOBF94C4VASZ42HUSD3J8X&amp;marketplace=FLIPKART&amp;fm=neo%2Fmerchandising&amp;iid=M_2d5c65b1-0a48-4d62-a30e-da2eeb2a43ae_3_MY0YFFW5JE_MC.MOBF94C4VASZ42HU&amp;otracker=clp_pmu_v2_Samsung%2BMobile%2Bunder%2B%25E2%2582%25B910K_3_3.productCard.PMU_V2_Samsung%2BGalaxy%2BJ4%2BPlus%2B%2528Gold%252C%2B32%2BGB%2529_samsung-mobile-store_MOBF94C4VASZ42HU_neo%2Fmerchandising_2&amp;cid=MOBF94C4VASZ42HU\" rel=\"noopener noreferrer\" target=\"_blank\" title=\"Samsung Galaxy J4 Plus (Gold, 32 GB)\">Samsung Galaxy J4 Plus (Gold, 32 GB)</a></div><div class=\"niH0FQ _36Fcw_\"><span class=\"_2_KrJI\" id=\"productRating_LSTMOBF94C4VASZ42HUSD3J8X_MOBF94C4VASZ42HU_\"><div class=\"hGSR34\">4.3<img class=\"_2lQ_WZ\" src=\"data:image/svg+xml;base64,PHN2ZyB4bWxucz0iaHR0cDovL3d3dy53My5vcmcvMjAwMC9zdmciIHdpZHRoPSIxMyIgaGVpZ2h0PSIxMiI+PHBhdGggZmlsbD0iI0ZGRiIgZD0iTTYuNSA5LjQzOWwtMy42NzQgMi4yMy45NC00LjI2LTMuMjEtMi44ODMgNC4yNTQtLjQwNEw2LjUuMTEybDEuNjkgNC4wMSA0LjI1NC40MDQtMy4yMSAyLjg4Mi45NCA0LjI2eiIvPjwvc3ZnPg==\"/></div></span><span class=\"_38sUEc\">(3,039)</span></div><div class=\"_1Vfi6u\"><div class=\"_1uv9Cb\"><div class=\"_1vC4OE\">₹8,999</div><div class=\"_3auQ3N\">₹<!-- -->12,000</div><div class=\"VGWI6T\"><span>25% off</span></div></div></div></div><div class=\"_3gDSOa _3iGnbq\"><div class=\"DsQ2eg\"><svg class=\"_2oLiqr\" height=\"16\" viewbox=\"0 0 20 16\" width=\"16\" xmlns=\"http://www.w3.org/2000/svg\"><path class=\"_35Y7Yo\" d=\"M8.695 16.682C4.06 12.382 1 9.536 1 6.065 1 3.219 3.178 1 5.95 1c1.566 0 3.069.746 4.05 1.915C10.981 1.745 12.484 1 14.05 1 16.822 1 19 3.22 19 6.065c0 3.471-3.06 6.316-7.695 10.617L10 17.897l-1.305-1.215z\" fill=\"#2874F0\" fill-rule=\"evenodd\" opacity=\".9\" stroke=\"#FFF\"></path></svg></div></div></div></div>,\n",
       " <div class=\"_1CzqlW\"><div class=\"_3liAhj _2Vsm67\"><a class=\"Zhf2z-\" href=\"/samsung-galaxy-j1-4g-gold-8-gb/p/itmeq4s4phfj49re?pid=MOBEQ4S4PKGV8YTR&amp;lid=LSTMOBEQ4S4PKGV8YTRNGFYDC&amp;marketplace=FLIPKART&amp;fm=neo%2Fmerchandising&amp;iid=M_2d5c65b1-0a48-4d62-a30e-da2eeb2a43ae_3_MY0YFFW5JE_MC.MOBEQ4S4PKGV8YTR&amp;otracker=clp_pmu_v2_Samsung%2BMobile%2Bunder%2B%25E2%2582%25B910K_4_3.productCard.PMU_V2_Samsung%2BGalaxy%2BJ1%2B%25284G%2529%2B%2528Gold%252C%2B8%2BGB%2529_samsung-mobile-store_MOBEQ4S4PKGV8YTR_neo%2Fmerchandising_3&amp;cid=MOBEQ4S4PKGV8YTR\" rel=\"noopener noreferrer\" target=\"_blank\" title=\"Samsung Galaxy J1 (4G) (Gold, 8 GB)\"><div class=\"_8Vcv_L\"><div><div class=\"_3BTv9X\" style=\"height:150px;width:150px\"><img alt=\"Samsung Galaxy J1 (4G) (Gold, 8 GB)\" class=\"_1Nyybr\" src=\"//img1a.flixcart.com/www/linchpin/fk-cp-zion/img/placeholder_9951d0.svg\"/></div></div></div></a><div><div><a class=\"_2cLu-l\" href=\"/samsung-galaxy-j1-4g-gold-8-gb/p/itmeq4s4phfj49re?pid=MOBEQ4S4PKGV8YTR&amp;lid=LSTMOBEQ4S4PKGV8YTRNGFYDC&amp;marketplace=FLIPKART&amp;fm=neo%2Fmerchandising&amp;iid=M_2d5c65b1-0a48-4d62-a30e-da2eeb2a43ae_3_MY0YFFW5JE_MC.MOBEQ4S4PKGV8YTR&amp;otracker=clp_pmu_v2_Samsung%2BMobile%2Bunder%2B%25E2%2582%25B910K_4_3.productCard.PMU_V2_Samsung%2BGalaxy%2BJ1%2B%25284G%2529%2B%2528Gold%252C%2B8%2BGB%2529_samsung-mobile-store_MOBEQ4S4PKGV8YTR_neo%2Fmerchandising_3&amp;cid=MOBEQ4S4PKGV8YTR\" rel=\"noopener noreferrer\" target=\"_blank\" title=\"Samsung Galaxy J1 (4G) (Gold, 8 GB)\">Samsung Galaxy J1 (4G) (Gold, 8 GB)</a></div><div class=\"niH0FQ _36Fcw_\"><span class=\"_2_KrJI\" id=\"productRating_LSTMOBEQ4S4PKGV8YTRNGFYDC_MOBEQ4S4PKGV8YTR_\"><div class=\"hGSR34\">4<img class=\"_2lQ_WZ\" src=\"data:image/svg+xml;base64,PHN2ZyB4bWxucz0iaHR0cDovL3d3dy53My5vcmcvMjAwMC9zdmciIHdpZHRoPSIxMyIgaGVpZ2h0PSIxMiI+PHBhdGggZmlsbD0iI0ZGRiIgZD0iTTYuNSA5LjQzOWwtMy42NzQgMi4yMy45NC00LjI2LTMuMjEtMi44ODMgNC4yNTQtLjQwNEw2LjUuMTEybDEuNjkgNC4wMSA0LjI1NC40MDQtMy4yMSAyLjg4Mi45NCA0LjI2eiIvPjwvc3ZnPg==\"/></div></span><span class=\"_38sUEc\">(1,538)</span></div><div class=\"_1Vfi6u\"><div class=\"_1uv9Cb\"><div class=\"_1vC4OE\">₹7,550</div></div></div></div><div class=\"_3gDSOa _3iGnbq\"><div class=\"DsQ2eg\"><svg class=\"_2oLiqr\" height=\"16\" viewbox=\"0 0 20 16\" width=\"16\" xmlns=\"http://www.w3.org/2000/svg\"><path class=\"_35Y7Yo\" d=\"M8.695 16.682C4.06 12.382 1 9.536 1 6.065 1 3.219 3.178 1 5.95 1c1.566 0 3.069.746 4.05 1.915C10.981 1.745 12.484 1 14.05 1 16.822 1 19 3.22 19 6.065c0 3.471-3.06 6.316-7.695 10.617L10 17.897l-1.305-1.215z\" fill=\"#2874F0\" fill-rule=\"evenodd\" opacity=\".9\" stroke=\"#FFF\"></path></svg></div></div></div></div>,\n",
       " <div class=\"_1CzqlW\"><div class=\"_3liAhj _2Vsm67\"><a class=\"Zhf2z-\" href=\"/samsung-galaxy-j4-plus-black-32-gb/p/itmf94c48zdj6v6q?pid=MOBF94C4Q2GNQBRH&amp;lid=LSTMOBF94C4Q2GNQBRHWRAPZ4&amp;marketplace=FLIPKART&amp;fm=neo%2Fmerchandising&amp;iid=M_2d5c65b1-0a48-4d62-a30e-da2eeb2a43ae_3_MY0YFFW5JE_MC.MOBF94C4Q2GNQBRH&amp;otracker=clp_pmu_v2_Samsung%2BMobile%2Bunder%2B%25E2%2582%25B910K_5_3.productCard.PMU_V2_Samsung%2BGalaxy%2BJ4%2BPlus%2B%2528Black%252C%2B32%2BGB%2529_samsung-mobile-store_MOBF94C4Q2GNQBRH_neo%2Fmerchandising_4&amp;cid=MOBF94C4Q2GNQBRH\" rel=\"noopener noreferrer\" target=\"_blank\" title=\"Samsung Galaxy J4 Plus (Black, 32 GB)\"><div class=\"_8Vcv_L\"><div><div class=\"_3BTv9X\" style=\"height:150px;width:150px\"><img alt=\"Samsung Galaxy J4 Plus (Black, 32 GB)\" class=\"_1Nyybr\" src=\"//img1a.flixcart.com/www/linchpin/fk-cp-zion/img/placeholder_9951d0.svg\"/></div></div></div></a><div><div><a class=\"_2cLu-l\" href=\"/samsung-galaxy-j4-plus-black-32-gb/p/itmf94c48zdj6v6q?pid=MOBF94C4Q2GNQBRH&amp;lid=LSTMOBF94C4Q2GNQBRHWRAPZ4&amp;marketplace=FLIPKART&amp;fm=neo%2Fmerchandising&amp;iid=M_2d5c65b1-0a48-4d62-a30e-da2eeb2a43ae_3_MY0YFFW5JE_MC.MOBF94C4Q2GNQBRH&amp;otracker=clp_pmu_v2_Samsung%2BMobile%2Bunder%2B%25E2%2582%25B910K_5_3.productCard.PMU_V2_Samsung%2BGalaxy%2BJ4%2BPlus%2B%2528Black%252C%2B32%2BGB%2529_samsung-mobile-store_MOBF94C4Q2GNQBRH_neo%2Fmerchandising_4&amp;cid=MOBF94C4Q2GNQBRH\" rel=\"noopener noreferrer\" target=\"_blank\" title=\"Samsung Galaxy J4 Plus (Black, 32 GB)\">Samsung Galaxy J4 Plus (Black, 32 GB)</a></div><div class=\"niH0FQ _36Fcw_\"><span class=\"_2_KrJI\" id=\"productRating_LSTMOBF94C4Q2GNQBRHWRAPZ4_MOBF94C4Q2GNQBRH_\"><div class=\"hGSR34\">4.3<img class=\"_2lQ_WZ\" src=\"data:image/svg+xml;base64,PHN2ZyB4bWxucz0iaHR0cDovL3d3dy53My5vcmcvMjAwMC9zdmciIHdpZHRoPSIxMyIgaGVpZ2h0PSIxMiI+PHBhdGggZmlsbD0iI0ZGRiIgZD0iTTYuNSA5LjQzOWwtMy42NzQgMi4yMy45NC00LjI2LTMuMjEtMi44ODMgNC4yNTQtLjQwNEw2LjUuMTEybDEuNjkgNC4wMSA0LjI1NC40MDQtMy4yMSAyLjg4Mi45NCA0LjI2eiIvPjwvc3ZnPg==\"/></div></span><span class=\"_38sUEc\">(3,039)</span></div><div class=\"_1Vfi6u\"><div class=\"_1uv9Cb\"><div class=\"_1vC4OE\">₹8,490</div><div class=\"_3auQ3N\">₹<!-- -->9,000</div><div class=\"VGWI6T\"><span>5% off</span></div></div></div></div><div class=\"_3gDSOa _3iGnbq\"><div class=\"DsQ2eg\"><svg class=\"_2oLiqr\" height=\"16\" viewbox=\"0 0 20 16\" width=\"16\" xmlns=\"http://www.w3.org/2000/svg\"><path class=\"_35Y7Yo\" d=\"M8.695 16.682C4.06 12.382 1 9.536 1 6.065 1 3.219 3.178 1 5.95 1c1.566 0 3.069.746 4.05 1.915C10.981 1.745 12.484 1 14.05 1 16.822 1 19 3.22 19 6.065c0 3.471-3.06 6.316-7.695 10.617L10 17.897l-1.305-1.215z\" fill=\"#2874F0\" fill-rule=\"evenodd\" opacity=\".9\" stroke=\"#FFF\"></path></svg></div></div></div></div>,\n",
       " <div class=\"_1CzqlW\"><div class=\"_3liAhj _2Vsm67\"><a class=\"Zhf2z-\" href=\"/samsung-galaxy-j2-core-gold-8-gb/p/itmf8bfpjfu9deas?pid=MOBF8BFPKTJ7EY7K&amp;lid=LSTMOBF8BFPKTJ7EY7KFN4IPZ&amp;marketplace=FLIPKART&amp;fm=neo%2Fmerchandising&amp;iid=M_2d5c65b1-0a48-4d62-a30e-da2eeb2a43ae_3_MY0YFFW5JE_MC.MOBF8BFPKTJ7EY7K&amp;otracker=clp_pmu_v2_Samsung%2BMobile%2Bunder%2B%25E2%2582%25B910K_6_3.productCard.PMU_V2_Samsung%2BGalaxy%2BJ2%2BCore%2B%2528Gold%252C%2B8%2BGB%2529_samsung-mobile-store_MOBF8BFPKTJ7EY7K_neo%2Fmerchandising_5&amp;cid=MOBF8BFPKTJ7EY7K\" rel=\"noopener noreferrer\" target=\"_blank\" title=\"Samsung Galaxy J2 Core (Gold, 8 GB)\"><div class=\"_8Vcv_L\"><div><div class=\"_3BTv9X\" style=\"height:150px;width:150px\"><img alt=\"Samsung Galaxy J2 Core (Gold, 8 GB)\" class=\"_1Nyybr\" src=\"//img1a.flixcart.com/www/linchpin/fk-cp-zion/img/placeholder_9951d0.svg\"/></div></div></div></a><div><div><a class=\"_2cLu-l\" href=\"/samsung-galaxy-j2-core-gold-8-gb/p/itmf8bfpjfu9deas?pid=MOBF8BFPKTJ7EY7K&amp;lid=LSTMOBF8BFPKTJ7EY7KFN4IPZ&amp;marketplace=FLIPKART&amp;fm=neo%2Fmerchandising&amp;iid=M_2d5c65b1-0a48-4d62-a30e-da2eeb2a43ae_3_MY0YFFW5JE_MC.MOBF8BFPKTJ7EY7K&amp;otracker=clp_pmu_v2_Samsung%2BMobile%2Bunder%2B%25E2%2582%25B910K_6_3.productCard.PMU_V2_Samsung%2BGalaxy%2BJ2%2BCore%2B%2528Gold%252C%2B8%2BGB%2529_samsung-mobile-store_MOBF8BFPKTJ7EY7K_neo%2Fmerchandising_5&amp;cid=MOBF8BFPKTJ7EY7K\" rel=\"noopener noreferrer\" target=\"_blank\" title=\"Samsung Galaxy J2 Core (Gold, 8 GB)\">Samsung Galaxy J2 Core (Gold, 8 GB)</a></div><div class=\"niH0FQ _36Fcw_\"><span class=\"_2_KrJI\" id=\"productRating_LSTMOBF8BFPKTJ7EY7KFN4IPZ_MOBF8BFPKTJ7EY7K_\"><div class=\"hGSR34\">4.2<img class=\"_2lQ_WZ\" src=\"data:image/svg+xml;base64,PHN2ZyB4bWxucz0iaHR0cDovL3d3dy53My5vcmcvMjAwMC9zdmciIHdpZHRoPSIxMyIgaGVpZ2h0PSIxMiI+PHBhdGggZmlsbD0iI0ZGRiIgZD0iTTYuNSA5LjQzOWwtMy42NzQgMi4yMy45NC00LjI2LTMuMjEtMi44ODMgNC4yNTQtLjQwNEw2LjUuMTEybDEuNjkgNC4wMSA0LjI1NC40MDQtMy4yMSAyLjg4Mi45NCA0LjI2eiIvPjwvc3ZnPg==\"/></div></span><span class=\"_38sUEc\">(3,904)</span></div><div class=\"_1Vfi6u\"><div class=\"_1uv9Cb\"><div class=\"_1vC4OE\">₹5,990</div><div class=\"_3auQ3N\">₹<!-- -->6,400</div><div class=\"VGWI6T\"><span>6% off</span></div></div></div></div><div class=\"_3gDSOa _3iGnbq\"><div class=\"DsQ2eg\"><svg class=\"_2oLiqr\" height=\"16\" viewbox=\"0 0 20 16\" width=\"16\" xmlns=\"http://www.w3.org/2000/svg\"><path class=\"_35Y7Yo\" d=\"M8.695 16.682C4.06 12.382 1 9.536 1 6.065 1 3.219 3.178 1 5.95 1c1.566 0 3.069.746 4.05 1.915C10.981 1.745 12.484 1 14.05 1 16.822 1 19 3.22 19 6.065c0 3.471-3.06 6.316-7.695 10.617L10 17.897l-1.305-1.215z\" fill=\"#2874F0\" fill-rule=\"evenodd\" opacity=\".9\" stroke=\"#FFF\"></path></svg></div></div></div></div>,\n",
       " <div class=\"_1CzqlW\"><div class=\"_3liAhj _2Vsm67\"><a class=\"Zhf2z-\" href=\"/samsung-galaxy-j7-prime-black-16-gb/p/itmemnhgfyzxzd7t?pid=MOBEMNHF97T55KYZ&amp;lid=LSTMOBEMNHF97T55KYZCCJEYQ&amp;marketplace=FLIPKART&amp;fm=neo%2Fmerchandising&amp;iid=M_2d5c65b1-0a48-4d62-a30e-da2eeb2a43ae_4_ZW1VSK16J7_MC.MOBEMNHF97T55KYZ&amp;otracker=clp_pmu_v2_Samsung%2BMobile%2Bunder%2B%25E2%2582%25B915K_1_4.productCard.PMU_V2_Samsung%2BGalaxy%2BJ7%2BPrime%2B%2528Black%252C%2B16%2BGB%2529_samsung-mobile-store_MOBEMNHF97T55KYZ_neo%2Fmerchandising_0&amp;cid=MOBEMNHF97T55KYZ\" rel=\"noopener noreferrer\" target=\"_blank\" title=\"Samsung Galaxy J7 Prime (Black, 16 GB)\"><div class=\"_8Vcv_L\"><div><div class=\"_3BTv9X\" style=\"height:150px;width:150px\"><img alt=\"Samsung Galaxy J7 Prime (Black, 16 GB)\" class=\"_1Nyybr\" src=\"//img1a.flixcart.com/www/linchpin/fk-cp-zion/img/placeholder_9951d0.svg\"/></div></div></div></a><div><div><a class=\"_2cLu-l\" href=\"/samsung-galaxy-j7-prime-black-16-gb/p/itmemnhgfyzxzd7t?pid=MOBEMNHF97T55KYZ&amp;lid=LSTMOBEMNHF97T55KYZCCJEYQ&amp;marketplace=FLIPKART&amp;fm=neo%2Fmerchandising&amp;iid=M_2d5c65b1-0a48-4d62-a30e-da2eeb2a43ae_4_ZW1VSK16J7_MC.MOBEMNHF97T55KYZ&amp;otracker=clp_pmu_v2_Samsung%2BMobile%2Bunder%2B%25E2%2582%25B915K_1_4.productCard.PMU_V2_Samsung%2BGalaxy%2BJ7%2BPrime%2B%2528Black%252C%2B16%2BGB%2529_samsung-mobile-store_MOBEMNHF97T55KYZ_neo%2Fmerchandising_0&amp;cid=MOBEMNHF97T55KYZ\" rel=\"noopener noreferrer\" target=\"_blank\" title=\"Samsung Galaxy J7 Prime (Black, 16 GB)\">Samsung Galaxy J7 Prime (Black, 16 GB)</a></div><div class=\"niH0FQ _36Fcw_\"><span class=\"_2_KrJI\" id=\"productRating_LSTMOBEMNHF97T55KYZCCJEYQ_MOBEMNHF97T55KYZ_\"><div class=\"hGSR34\">4.2<img class=\"_2lQ_WZ\" src=\"data:image/svg+xml;base64,PHN2ZyB4bWxucz0iaHR0cDovL3d3dy53My5vcmcvMjAwMC9zdmciIHdpZHRoPSIxMyIgaGVpZ2h0PSIxMiI+PHBhdGggZmlsbD0iI0ZGRiIgZD0iTTYuNSA5LjQzOWwtMy42NzQgMi4yMy45NC00LjI2LTMuMjEtMi44ODMgNC4yNTQtLjQwNEw2LjUuMTEybDEuNjkgNC4wMSA0LjI1NC40MDQtMy4yMSAyLjg4Mi45NCA0LjI2eiIvPjwvc3ZnPg==\"/></div></span><span class=\"_38sUEc\">(18,527)</span></div><div class=\"_1Vfi6u\"><div class=\"_1uv9Cb\"><div class=\"_1vC4OE\">₹9,990</div><div class=\"_3auQ3N\">₹<!-- -->12,996</div><div class=\"VGWI6T\"><span>23% off</span></div></div></div></div><div class=\"_3gDSOa _3iGnbq\"><div class=\"DsQ2eg\"><svg class=\"_2oLiqr\" height=\"16\" viewbox=\"0 0 20 16\" width=\"16\" xmlns=\"http://www.w3.org/2000/svg\"><path class=\"_35Y7Yo\" d=\"M8.695 16.682C4.06 12.382 1 9.536 1 6.065 1 3.219 3.178 1 5.95 1c1.566 0 3.069.746 4.05 1.915C10.981 1.745 12.484 1 14.05 1 16.822 1 19 3.22 19 6.065c0 3.471-3.06 6.316-7.695 10.617L10 17.897l-1.305-1.215z\" fill=\"#2874F0\" fill-rule=\"evenodd\" opacity=\".9\" stroke=\"#FFF\"></path></svg></div></div></div></div>,\n",
       " <div class=\"_1CzqlW\"><div class=\"_3liAhj _2Vsm67\"><a class=\"Zhf2z-\" href=\"/samsung-galaxy-j7-duo-blue-32-gb/p/itmf5j6b3hep6yxn?pid=MOBF5J6BJXGBYBFH&amp;lid=LSTMOBF5J6BJXGBYBFHGT37ZP&amp;marketplace=FLIPKART&amp;fm=neo%2Fmerchandising&amp;iid=M_2d5c65b1-0a48-4d62-a30e-da2eeb2a43ae_4_ZW1VSK16J7_MC.MOBF5J6BJXGBYBFH&amp;otracker=clp_pmu_v2_Samsung%2BMobile%2Bunder%2B%25E2%2582%25B915K_2_4.productCard.PMU_V2_Samsung%2BGalaxy%2BJ7%2BDuo%2B%2528Blue%252C%2B32%2BGB%2529_samsung-mobile-store_MOBF5J6BJXGBYBFH_neo%2Fmerchandising_1&amp;cid=MOBF5J6BJXGBYBFH\" rel=\"noopener noreferrer\" target=\"_blank\" title=\"Samsung Galaxy J7 Duo (Blue, 32 GB)\"><div class=\"_8Vcv_L\"><div><div class=\"_3BTv9X\" style=\"height:150px;width:150px\"><img alt=\"Samsung Galaxy J7 Duo (Blue, 32 GB)\" class=\"_1Nyybr\" src=\"//img1a.flixcart.com/www/linchpin/fk-cp-zion/img/placeholder_9951d0.svg\"/></div></div></div></a><div><div><a class=\"_2cLu-l\" href=\"/samsung-galaxy-j7-duo-blue-32-gb/p/itmf5j6b3hep6yxn?pid=MOBF5J6BJXGBYBFH&amp;lid=LSTMOBF5J6BJXGBYBFHGT37ZP&amp;marketplace=FLIPKART&amp;fm=neo%2Fmerchandising&amp;iid=M_2d5c65b1-0a48-4d62-a30e-da2eeb2a43ae_4_ZW1VSK16J7_MC.MOBF5J6BJXGBYBFH&amp;otracker=clp_pmu_v2_Samsung%2BMobile%2Bunder%2B%25E2%2582%25B915K_2_4.productCard.PMU_V2_Samsung%2BGalaxy%2BJ7%2BDuo%2B%2528Blue%252C%2B32%2BGB%2529_samsung-mobile-store_MOBF5J6BJXGBYBFH_neo%2Fmerchandising_1&amp;cid=MOBF5J6BJXGBYBFH\" rel=\"noopener noreferrer\" target=\"_blank\" title=\"Samsung Galaxy J7 Duo (Blue, 32 GB)\">Samsung Galaxy J7 Duo (Blue, 32 GB)</a></div><div class=\"niH0FQ _36Fcw_\"><span class=\"_2_KrJI\" id=\"productRating_LSTMOBF5J6BJXGBYBFHGT37ZP_MOBF5J6BJXGBYBFH_\"><div class=\"hGSR34\">4.3<img class=\"_2lQ_WZ\" src=\"data:image/svg+xml;base64,PHN2ZyB4bWxucz0iaHR0cDovL3d3dy53My5vcmcvMjAwMC9zdmciIHdpZHRoPSIxMyIgaGVpZ2h0PSIxMiI+PHBhdGggZmlsbD0iI0ZGRiIgZD0iTTYuNSA5LjQzOWwtMy42NzQgMi4yMy45NC00LjI2LTMuMjEtMi44ODMgNC4yNTQtLjQwNEw2LjUuMTEybDEuNjkgNC4wMSA0LjI1NC40MDQtMy4yMSAyLjg4Mi45NCA0LjI2eiIvPjwvc3ZnPg==\"/></div></span><span class=\"_38sUEc\">(2,542)</span></div><div class=\"_1Vfi6u\"><div class=\"_1uv9Cb\"><div class=\"_1vC4OE\">₹12,999</div><div class=\"_3auQ3N\">₹<!-- -->14,999</div><div class=\"VGWI6T\"><span>13% off</span></div></div></div></div><div class=\"_3gDSOa _3iGnbq\"><div class=\"DsQ2eg\"><svg class=\"_2oLiqr\" height=\"16\" viewbox=\"0 0 20 16\" width=\"16\" xmlns=\"http://www.w3.org/2000/svg\"><path class=\"_35Y7Yo\" d=\"M8.695 16.682C4.06 12.382 1 9.536 1 6.065 1 3.219 3.178 1 5.95 1c1.566 0 3.069.746 4.05 1.915C10.981 1.745 12.484 1 14.05 1 16.822 1 19 3.22 19 6.065c0 3.471-3.06 6.316-7.695 10.617L10 17.897l-1.305-1.215z\" fill=\"#2874F0\" fill-rule=\"evenodd\" opacity=\".9\" stroke=\"#FFF\"></path></svg></div></div></div></div>,\n",
       " <div class=\"_1CzqlW\"><div class=\"_3liAhj _2Vsm67\"><a class=\"Zhf2z-\" href=\"/samsung-galaxy-j2-2018-black-16-gb/p/itmf5yh2vhprbhh6?pid=MOBF47DRPJA8DAQY&amp;lid=LSTMOBF47DRPJA8DAQYGSSLY8&amp;marketplace=FLIPKART&amp;fm=neo%2Fmerchandising&amp;iid=M_2d5c65b1-0a48-4d62-a30e-da2eeb2a43ae_4_ZW1VSK16J7_MC.MOBF47DRPJA8DAQY&amp;otracker=clp_pmu_v2_Samsung%2BMobile%2Bunder%2B%25E2%2582%25B915K_3_4.productCard.PMU_V2_Samsung%2BGalaxy%2BJ2%2B2018%2B%2528Black%252C%2B16%2BGB%2529_samsung-mobile-store_MOBF47DRPJA8DAQY_neo%2Fmerchandising_2&amp;cid=MOBF47DRPJA8DAQY\" rel=\"noopener noreferrer\" target=\"_blank\" title=\"Samsung Galaxy J2 2018 (Black, 16 GB)\"><div class=\"_8Vcv_L\"><div><div class=\"_3BTv9X\" style=\"height:150px;width:150px\"><img alt=\"Samsung Galaxy J2 2018 (Black, 16 GB)\" class=\"_1Nyybr\" src=\"//img1a.flixcart.com/www/linchpin/fk-cp-zion/img/placeholder_9951d0.svg\"/></div></div></div></a><div><div><a class=\"_2cLu-l\" href=\"/samsung-galaxy-j2-2018-black-16-gb/p/itmf5yh2vhprbhh6?pid=MOBF47DRPJA8DAQY&amp;lid=LSTMOBF47DRPJA8DAQYGSSLY8&amp;marketplace=FLIPKART&amp;fm=neo%2Fmerchandising&amp;iid=M_2d5c65b1-0a48-4d62-a30e-da2eeb2a43ae_4_ZW1VSK16J7_MC.MOBF47DRPJA8DAQY&amp;otracker=clp_pmu_v2_Samsung%2BMobile%2Bunder%2B%25E2%2582%25B915K_3_4.productCard.PMU_V2_Samsung%2BGalaxy%2BJ2%2B2018%2B%2528Black%252C%2B16%2BGB%2529_samsung-mobile-store_MOBF47DRPJA8DAQY_neo%2Fmerchandising_2&amp;cid=MOBF47DRPJA8DAQY\" rel=\"noopener noreferrer\" target=\"_blank\" title=\"Samsung Galaxy J2 2018 (Black, 16 GB)\">Samsung Galaxy J2 2018 (Black, 16 GB)</a></div><div class=\"niH0FQ _36Fcw_\"><span class=\"_2_KrJI\" id=\"productRating_LSTMOBF47DRPJA8DAQYGSSLY8_MOBF47DRPJA8DAQY_\"><div class=\"hGSR34\">4.2<img class=\"_2lQ_WZ\" src=\"data:image/svg+xml;base64,PHN2ZyB4bWxucz0iaHR0cDovL3d3dy53My5vcmcvMjAwMC9zdmciIHdpZHRoPSIxMyIgaGVpZ2h0PSIxMiI+PHBhdGggZmlsbD0iI0ZGRiIgZD0iTTYuNSA5LjQzOWwtMy42NzQgMi4yMy45NC00LjI2LTMuMjEtMi44ODMgNC4yNTQtLjQwNEw2LjUuMTEybDEuNjkgNC4wMSA0LjI1NC40MDQtMy4yMSAyLjg4Mi45NCA0LjI2eiIvPjwvc3ZnPg==\"/></div></span><span class=\"_38sUEc\">(6,429)</span></div><div class=\"_1Vfi6u\"><div class=\"_1uv9Cb\"><div class=\"_1vC4OE\">₹10,000</div></div></div></div><div class=\"_3gDSOa _3iGnbq\"><div class=\"DsQ2eg\"><svg class=\"_2oLiqr\" height=\"16\" viewbox=\"0 0 20 16\" width=\"16\" xmlns=\"http://www.w3.org/2000/svg\"><path class=\"_35Y7Yo\" d=\"M8.695 16.682C4.06 12.382 1 9.536 1 6.065 1 3.219 3.178 1 5.95 1c1.566 0 3.069.746 4.05 1.915C10.981 1.745 12.484 1 14.05 1 16.822 1 19 3.22 19 6.065c0 3.471-3.06 6.316-7.695 10.617L10 17.897l-1.305-1.215z\" fill=\"#2874F0\" fill-rule=\"evenodd\" opacity=\".9\" stroke=\"#FFF\"></path></svg></div></div></div></div>,\n",
       " <div class=\"_1CzqlW\"><div class=\"_3liAhj _2Vsm67\"><a class=\"Zhf2z-\" href=\"/samsung-galaxy-m10-ocean-blue-32-gb/p/itmfe5cxkdagkpce?pid=MOBFE5AFBDFXVHDX&amp;lid=LSTMOBFE5AFBDFXVHDXQXF5DI&amp;marketplace=FLIPKART&amp;fm=neo%2Fmerchandising&amp;iid=M_2d5c65b1-0a48-4d62-a30e-da2eeb2a43ae_4_ZW1VSK16J7_MC.MOBFE5AFBDFXVHDX&amp;otracker=clp_pmu_v2_Samsung%2BMobile%2Bunder%2B%25E2%2582%25B915K_4_4.productCard.PMU_V2_Samsung%2BGalaxy%2BM10%2B%2528Ocean%2BBlue%252C%2B32%2BGB%2529_samsung-mobile-store_MOBFE5AFBDFXVHDX_neo%2Fmerchandising_3&amp;cid=MOBFE5AFBDFXVHDX\" rel=\"noopener noreferrer\" target=\"_blank\" title=\"Samsung Galaxy M10 (Ocean Blue, 32 GB)\"><div class=\"_8Vcv_L\"><div><div class=\"_3BTv9X\" style=\"height:150px;width:150px\"><img alt=\"Samsung Galaxy M10 (Ocean Blue, 32 GB)\" class=\"_1Nyybr\" src=\"//img1a.flixcart.com/www/linchpin/fk-cp-zion/img/placeholder_9951d0.svg\"/></div></div></div></a><div><div><a class=\"_2cLu-l\" href=\"/samsung-galaxy-m10-ocean-blue-32-gb/p/itmfe5cxkdagkpce?pid=MOBFE5AFBDFXVHDX&amp;lid=LSTMOBFE5AFBDFXVHDXQXF5DI&amp;marketplace=FLIPKART&amp;fm=neo%2Fmerchandising&amp;iid=M_2d5c65b1-0a48-4d62-a30e-da2eeb2a43ae_4_ZW1VSK16J7_MC.MOBFE5AFBDFXVHDX&amp;otracker=clp_pmu_v2_Samsung%2BMobile%2Bunder%2B%25E2%2582%25B915K_4_4.productCard.PMU_V2_Samsung%2BGalaxy%2BM10%2B%2528Ocean%2BBlue%252C%2B32%2BGB%2529_samsung-mobile-store_MOBFE5AFBDFXVHDX_neo%2Fmerchandising_3&amp;cid=MOBFE5AFBDFXVHDX\" rel=\"noopener noreferrer\" target=\"_blank\" title=\"Samsung Galaxy M10 (Ocean Blue, 32 GB)\">Samsung Galaxy M10 (Ocean Blue, 32 GB)</a></div><div class=\"niH0FQ _36Fcw_\"><span class=\"_2_KrJI\" id=\"productRating_LSTMOBFE5AFBDFXVHDXQXF5DI_MOBFE5AFBDFXVHDX_\"><div class=\"hGSR34\">4.3<img class=\"_2lQ_WZ\" src=\"data:image/svg+xml;base64,PHN2ZyB4bWxucz0iaHR0cDovL3d3dy53My5vcmcvMjAwMC9zdmciIHdpZHRoPSIxMyIgaGVpZ2h0PSIxMiI+PHBhdGggZmlsbD0iI0ZGRiIgZD0iTTYuNSA5LjQzOWwtMy42NzQgMi4yMy45NC00LjI2LTMuMjEtMi44ODMgNC4yNTQtLjQwNEw2LjUuMTEybDEuNjkgNC4wMSA0LjI1NC40MDQtMy4yMSAyLjg4Mi45NCA0LjI2eiIvPjwvc3ZnPg==\"/></div></span><span class=\"_38sUEc\">(94)</span></div><div class=\"_1Vfi6u\"><div class=\"_1uv9Cb\"><div class=\"_1vC4OE\">₹10,379</div><div class=\"_3auQ3N\">₹<!-- -->10,990</div><div class=\"VGWI6T\"><span>5% off</span></div></div></div></div><div class=\"_3gDSOa _3iGnbq\"><div class=\"DsQ2eg\"><svg class=\"_2oLiqr\" height=\"16\" viewbox=\"0 0 20 16\" width=\"16\" xmlns=\"http://www.w3.org/2000/svg\"><path class=\"_35Y7Yo\" d=\"M8.695 16.682C4.06 12.382 1 9.536 1 6.065 1 3.219 3.178 1 5.95 1c1.566 0 3.069.746 4.05 1.915C10.981 1.745 12.484 1 14.05 1 16.822 1 19 3.22 19 6.065c0 3.471-3.06 6.316-7.695 10.617L10 17.897l-1.305-1.215z\" fill=\"#2874F0\" fill-rule=\"evenodd\" opacity=\".9\" stroke=\"#FFF\"></path></svg></div></div></div></div>,\n",
       " <div class=\"_1CzqlW\"><div class=\"_3liAhj _2Vsm67\"><a class=\"Zhf2z-\" href=\"/samsung-galaxy-j6-gold-32-gb/p/itmf5bkhzp38kfjx?pid=MOBF5BKHX5GKHFW6&amp;lid=LSTMOBF5BKHX5GKHFW6W4HUBD&amp;marketplace=FLIPKART&amp;fm=neo%2Fmerchandising&amp;iid=M_2d5c65b1-0a48-4d62-a30e-da2eeb2a43ae_4_ZW1VSK16J7_MC.MOBF5BKHX5GKHFW6&amp;otracker=clp_pmu_v2_Samsung%2BMobile%2Bunder%2B%25E2%2582%25B915K_5_4.productCard.PMU_V2_Samsung%2BGalaxy%2BJ6%2B%2528Gold%252C%2B32%2BGB%2529_samsung-mobile-store_MOBF5BKHX5GKHFW6_neo%2Fmerchandising_4&amp;cid=MOBF5BKHX5GKHFW6\" rel=\"noopener noreferrer\" target=\"_blank\" title=\"Samsung Galaxy J6 (Gold, 32 GB)\"><div class=\"_8Vcv_L\"><div><div class=\"_3BTv9X\" style=\"height:150px;width:150px\"><img alt=\"Samsung Galaxy J6 (Gold, 32 GB)\" class=\"_1Nyybr\" src=\"//img1a.flixcart.com/www/linchpin/fk-cp-zion/img/placeholder_9951d0.svg\"/></div></div></div></a><div><div><a class=\"_2cLu-l\" href=\"/samsung-galaxy-j6-gold-32-gb/p/itmf5bkhzp38kfjx?pid=MOBF5BKHX5GKHFW6&amp;lid=LSTMOBF5BKHX5GKHFW6W4HUBD&amp;marketplace=FLIPKART&amp;fm=neo%2Fmerchandising&amp;iid=M_2d5c65b1-0a48-4d62-a30e-da2eeb2a43ae_4_ZW1VSK16J7_MC.MOBF5BKHX5GKHFW6&amp;otracker=clp_pmu_v2_Samsung%2BMobile%2Bunder%2B%25E2%2582%25B915K_5_4.productCard.PMU_V2_Samsung%2BGalaxy%2BJ6%2B%2528Gold%252C%2B32%2BGB%2529_samsung-mobile-store_MOBF5BKHX5GKHFW6_neo%2Fmerchandising_4&amp;cid=MOBF5BKHX5GKHFW6\" rel=\"noopener noreferrer\" target=\"_blank\" title=\"Samsung Galaxy J6 (Gold, 32 GB)\">Samsung Galaxy J6 (Gold, 32 GB)</a></div><div class=\"niH0FQ _36Fcw_\"><span class=\"_2_KrJI\" id=\"productRating_LSTMOBF5BKHX5GKHFW6W4HUBD_MOBF5BKHX5GKHFW6_\"><div class=\"hGSR34\">4.4<img class=\"_2lQ_WZ\" src=\"data:image/svg+xml;base64,PHN2ZyB4bWxucz0iaHR0cDovL3d3dy53My5vcmcvMjAwMC9zdmciIHdpZHRoPSIxMyIgaGVpZ2h0PSIxMiI+PHBhdGggZmlsbD0iI0ZGRiIgZD0iTTYuNSA5LjQzOWwtMy42NzQgMi4yMy45NC00LjI2LTMuMjEtMi44ODMgNC4yNTQtLjQwNEw2LjUuMTEybDEuNjkgNC4wMSA0LjI1NC40MDQtMy4yMSAyLjg4Mi45NCA0LjI2eiIvPjwvc3ZnPg==\"/></div></span><span class=\"_38sUEc\">(13,341)</span></div><div class=\"_1Vfi6u\"><div class=\"_1uv9Cb\"><div class=\"_1vC4OE\">₹10,490</div><div class=\"_3auQ3N\">₹<!-- -->11,500</div><div class=\"VGWI6T\"><span>8% off</span></div></div></div></div><div class=\"_3gDSOa _3iGnbq\"><div class=\"DsQ2eg\"><svg class=\"_2oLiqr\" height=\"16\" viewbox=\"0 0 20 16\" width=\"16\" xmlns=\"http://www.w3.org/2000/svg\"><path class=\"_35Y7Yo\" d=\"M8.695 16.682C4.06 12.382 1 9.536 1 6.065 1 3.219 3.178 1 5.95 1c1.566 0 3.069.746 4.05 1.915C10.981 1.745 12.484 1 14.05 1 16.822 1 19 3.22 19 6.065c0 3.471-3.06 6.316-7.695 10.617L10 17.897l-1.305-1.215z\" fill=\"#2874F0\" fill-rule=\"evenodd\" opacity=\".9\" stroke=\"#FFF\"></path></svg></div></div></div></div>,\n",
       " <div class=\"_1CzqlW\"><div class=\"_3liAhj _2Vsm67\"><a class=\"Zhf2z-\" href=\"/samsung-galaxy-nxt-black-64-gb/p/itmet6rhzearbrgr?pid=MOBET6RHXVZBJFNT&amp;lid=LSTMOBET6RHXVZBJFNTIMB3LD&amp;marketplace=FLIPKART&amp;fm=neo%2Fmerchandising&amp;iid=M_2d5c65b1-0a48-4d62-a30e-da2eeb2a43ae_4_ZW1VSK16J7_MC.MOBET6RHXVZBJFNT&amp;otracker=clp_pmu_v2_Samsung%2BMobile%2Bunder%2B%25E2%2582%25B915K_6_4.productCard.PMU_V2_Samsung%2BGalaxy%2BOn%2BNxt%2B%2528Black%252C%2B64%2BGB%2529_samsung-mobile-store_MOBET6RHXVZBJFNT_neo%2Fmerchandising_5&amp;cid=MOBET6RHXVZBJFNT\" rel=\"noopener noreferrer\" target=\"_blank\" title=\"Samsung Galaxy On Nxt (Black, 64 GB)\"><div class=\"_8Vcv_L\"><div><div class=\"_3BTv9X\" style=\"height:150px;width:150px\"><img alt=\"Samsung Galaxy On Nxt (Black, 64 GB)\" class=\"_1Nyybr\" src=\"//img1a.flixcart.com/www/linchpin/fk-cp-zion/img/placeholder_9951d0.svg\"/></div></div></div></a><div><div><a class=\"_2cLu-l\" href=\"/samsung-galaxy-nxt-black-64-gb/p/itmet6rhzearbrgr?pid=MOBET6RHXVZBJFNT&amp;lid=LSTMOBET6RHXVZBJFNTIMB3LD&amp;marketplace=FLIPKART&amp;fm=neo%2Fmerchandising&amp;iid=M_2d5c65b1-0a48-4d62-a30e-da2eeb2a43ae_4_ZW1VSK16J7_MC.MOBET6RHXVZBJFNT&amp;otracker=clp_pmu_v2_Samsung%2BMobile%2Bunder%2B%25E2%2582%25B915K_6_4.productCard.PMU_V2_Samsung%2BGalaxy%2BOn%2BNxt%2B%2528Black%252C%2B64%2BGB%2529_samsung-mobile-store_MOBET6RHXVZBJFNT_neo%2Fmerchandising_5&amp;cid=MOBET6RHXVZBJFNT\" rel=\"noopener noreferrer\" target=\"_blank\" title=\"Samsung Galaxy On Nxt (Black, 64 GB)\">Samsung Galaxy On Nxt (Black, 64 GB)</a></div><div class=\"niH0FQ _36Fcw_\"><span class=\"_2_KrJI\" id=\"productRating_LSTMOBET6RHXVZBJFNTIMB3LD_MOBET6RHXVZBJFNT_\"><div class=\"hGSR34\">4.3<img class=\"_2lQ_WZ\" src=\"data:image/svg+xml;base64,PHN2ZyB4bWxucz0iaHR0cDovL3d3dy53My5vcmcvMjAwMC9zdmciIHdpZHRoPSIxMyIgaGVpZ2h0PSIxMiI+PHBhdGggZmlsbD0iI0ZGRiIgZD0iTTYuNSA5LjQzOWwtMy42NzQgMi4yMy45NC00LjI2LTMuMjEtMi44ODMgNC4yNTQtLjQwNEw2LjUuMTEybDEuNjkgNC4wMSA0LjI1NC40MDQtMy4yMSAyLjg4Mi45NCA0LjI2eiIvPjwvc3ZnPg==\"/></div></span><span class=\"_38sUEc\">(3,45,160)</span></div><div class=\"_1Vfi6u\"><div class=\"_1uv9Cb\"><div class=\"_1vC4OE\">₹10,490</div><div class=\"_3auQ3N\">₹<!-- -->17,900</div><div class=\"VGWI6T\"><span>41% off</span></div></div></div></div><div class=\"_3gDSOa _3iGnbq\"><div class=\"DsQ2eg\"><svg class=\"_2oLiqr\" height=\"16\" viewbox=\"0 0 20 16\" width=\"16\" xmlns=\"http://www.w3.org/2000/svg\"><path class=\"_35Y7Yo\" d=\"M8.695 16.682C4.06 12.382 1 9.536 1 6.065 1 3.219 3.178 1 5.95 1c1.566 0 3.069.746 4.05 1.915C10.981 1.745 12.484 1 14.05 1 16.822 1 19 3.22 19 6.065c0 3.471-3.06 6.316-7.695 10.617L10 17.897l-1.305-1.215z\" fill=\"#2874F0\" fill-rule=\"evenodd\" opacity=\".9\" stroke=\"#FFF\"></path></svg></div></div></div></div>,\n",
       " <div class=\"_1CzqlW\"><div class=\"_3liAhj _2Vsm67\"><a class=\"Zhf2z-\" href=\"/samsung-galaxy-j8-gold-64-gb/p/itmfd9j8gknqzvgn?pid=MOBF6GZTRMVDUVSJ&amp;lid=LSTMOBF6GZTRMVDUVSJBI0KZK&amp;marketplace=FLIPKART&amp;fm=neo%2Fmerchandising&amp;iid=M_2d5c65b1-0a48-4d62-a30e-da2eeb2a43ae_5_AYSX42C7U6_MC.MOBF6GZTRMVDUVSJ&amp;otracker=clp_pmu_v2_Samsung%2BMobile%2Bunder%2B%25E2%2582%25B920K_1_5.productCard.PMU_V2_Samsung%2BGalaxy%2BJ8%2B%2528Gold%252C%2B64%2BGB%2529_samsung-mobile-store_MOBF6GZTRMVDUVSJ_neo%2Fmerchandising_0&amp;cid=MOBF6GZTRMVDUVSJ\" rel=\"noopener noreferrer\" target=\"_blank\" title=\"Samsung Galaxy J8 (Gold, 64 GB)\"><div class=\"_8Vcv_L\"><div><div class=\"_3BTv9X\" style=\"height:150px;width:150px\"><img alt=\"Samsung Galaxy J8 (Gold, 64 GB)\" class=\"_1Nyybr\" src=\"//img1a.flixcart.com/www/linchpin/fk-cp-zion/img/placeholder_9951d0.svg\"/></div></div></div></a><div><div><a class=\"_2cLu-l\" href=\"/samsung-galaxy-j8-gold-64-gb/p/itmfd9j8gknqzvgn?pid=MOBF6GZTRMVDUVSJ&amp;lid=LSTMOBF6GZTRMVDUVSJBI0KZK&amp;marketplace=FLIPKART&amp;fm=neo%2Fmerchandising&amp;iid=M_2d5c65b1-0a48-4d62-a30e-da2eeb2a43ae_5_AYSX42C7U6_MC.MOBF6GZTRMVDUVSJ&amp;otracker=clp_pmu_v2_Samsung%2BMobile%2Bunder%2B%25E2%2582%25B920K_1_5.productCard.PMU_V2_Samsung%2BGalaxy%2BJ8%2B%2528Gold%252C%2B64%2BGB%2529_samsung-mobile-store_MOBF6GZTRMVDUVSJ_neo%2Fmerchandising_0&amp;cid=MOBF6GZTRMVDUVSJ\" rel=\"noopener noreferrer\" target=\"_blank\" title=\"Samsung Galaxy J8 (Gold, 64 GB)\">Samsung Galaxy J8 (Gold, 64 GB)</a></div><div class=\"niH0FQ _36Fcw_\"><span class=\"_2_KrJI\" id=\"productRating_LSTMOBF6GZTRMVDUVSJBI0KZK_MOBF6GZTRMVDUVSJ_\"><div class=\"hGSR34\">4.4<img class=\"_2lQ_WZ\" src=\"data:image/svg+xml;base64,PHN2ZyB4bWxucz0iaHR0cDovL3d3dy53My5vcmcvMjAwMC9zdmciIHdpZHRoPSIxMyIgaGVpZ2h0PSIxMiI+PHBhdGggZmlsbD0iI0ZGRiIgZD0iTTYuNSA5LjQzOWwtMy42NzQgMi4yMy45NC00LjI2LTMuMjEtMi44ODMgNC4yNTQtLjQwNEw2LjUuMTEybDEuNjkgNC4wMSA0LjI1NC40MDQtMy4yMSAyLjg4Mi45NCA0LjI2eiIvPjwvc3ZnPg==\"/></div></span><span class=\"_38sUEc\">(16,549)</span></div><div class=\"_1Vfi6u\"><div class=\"_1uv9Cb\"><div class=\"_1vC4OE\">₹15,990</div></div></div></div><div class=\"_3gDSOa _3iGnbq\"><div class=\"DsQ2eg\"><svg class=\"_2oLiqr\" height=\"16\" viewbox=\"0 0 20 16\" width=\"16\" xmlns=\"http://www.w3.org/2000/svg\"><path class=\"_35Y7Yo\" d=\"M8.695 16.682C4.06 12.382 1 9.536 1 6.065 1 3.219 3.178 1 5.95 1c1.566 0 3.069.746 4.05 1.915C10.981 1.745 12.484 1 14.05 1 16.822 1 19 3.22 19 6.065c0 3.471-3.06 6.316-7.695 10.617L10 17.897l-1.305-1.215z\" fill=\"#2874F0\" fill-rule=\"evenodd\" opacity=\".9\" stroke=\"#FFF\"></path></svg></div></div></div></div>,\n",
       " <div class=\"_1CzqlW\"><div class=\"_3liAhj _2Vsm67\"><a class=\"Zhf2z-\" href=\"/samsung-galaxy-j8-black-64-gb/p/itmf6gzusrgpzcf4?pid=MOBF6GZTM8BDQZGG&amp;lid=LSTMOBF6GZTM8BDQZGG5OHOCP&amp;marketplace=FLIPKART&amp;fm=neo%2Fmerchandising&amp;iid=M_2d5c65b1-0a48-4d62-a30e-da2eeb2a43ae_5_AYSX42C7U6_MC.MOBF6GZTM8BDQZGG&amp;otracker=clp_pmu_v2_Samsung%2BMobile%2Bunder%2B%25E2%2582%25B920K_2_5.productCard.PMU_V2_Samsung%2BGalaxy%2BJ8%2B%2528Black%252C%2B64%2BGB%2529_samsung-mobile-store_MOBF6GZTM8BDQZGG_neo%2Fmerchandising_1&amp;cid=MOBF6GZTM8BDQZGG\" rel=\"noopener noreferrer\" target=\"_blank\" title=\"Samsung Galaxy J8 (Black, 64 GB)\"><div class=\"_8Vcv_L\"><div><div class=\"_3BTv9X\" style=\"height:150px;width:150px\"><img alt=\"Samsung Galaxy J8 (Black, 64 GB)\" class=\"_1Nyybr\" src=\"//img1a.flixcart.com/www/linchpin/fk-cp-zion/img/placeholder_9951d0.svg\"/></div></div></div></a><div><div><a class=\"_2cLu-l\" href=\"/samsung-galaxy-j8-black-64-gb/p/itmf6gzusrgpzcf4?pid=MOBF6GZTM8BDQZGG&amp;lid=LSTMOBF6GZTM8BDQZGG5OHOCP&amp;marketplace=FLIPKART&amp;fm=neo%2Fmerchandising&amp;iid=M_2d5c65b1-0a48-4d62-a30e-da2eeb2a43ae_5_AYSX42C7U6_MC.MOBF6GZTM8BDQZGG&amp;otracker=clp_pmu_v2_Samsung%2BMobile%2Bunder%2B%25E2%2582%25B920K_2_5.productCard.PMU_V2_Samsung%2BGalaxy%2BJ8%2B%2528Black%252C%2B64%2BGB%2529_samsung-mobile-store_MOBF6GZTM8BDQZGG_neo%2Fmerchandising_1&amp;cid=MOBF6GZTM8BDQZGG\" rel=\"noopener noreferrer\" target=\"_blank\" title=\"Samsung Galaxy J8 (Black, 64 GB)\">Samsung Galaxy J8 (Black, 64 GB)</a></div><div class=\"niH0FQ _36Fcw_\"><span class=\"_2_KrJI\" id=\"productRating_LSTMOBF6GZTM8BDQZGG5OHOCP_MOBF6GZTM8BDQZGG_\"><div class=\"hGSR34\">4.4<img class=\"_2lQ_WZ\" src=\"data:image/svg+xml;base64,PHN2ZyB4bWxucz0iaHR0cDovL3d3dy53My5vcmcvMjAwMC9zdmciIHdpZHRoPSIxMyIgaGVpZ2h0PSIxMiI+PHBhdGggZmlsbD0iI0ZGRiIgZD0iTTYuNSA5LjQzOWwtMy42NzQgMi4yMy45NC00LjI2LTMuMjEtMi44ODMgNC4yNTQtLjQwNEw2LjUuMTEybDEuNjkgNC4wMSA0LjI1NC40MDQtMy4yMSAyLjg4Mi45NCA0LjI2eiIvPjwvc3ZnPg==\"/></div></span><span class=\"_38sUEc\">(16,549)</span></div><div class=\"_1Vfi6u\"><div class=\"_1uv9Cb\"><div class=\"_1vC4OE\">₹15,990</div></div></div></div><div class=\"_3gDSOa _3iGnbq\"><div class=\"DsQ2eg\"><svg class=\"_2oLiqr\" height=\"16\" viewbox=\"0 0 20 16\" width=\"16\" xmlns=\"http://www.w3.org/2000/svg\"><path class=\"_35Y7Yo\" d=\"M8.695 16.682C4.06 12.382 1 9.536 1 6.065 1 3.219 3.178 1 5.95 1c1.566 0 3.069.746 4.05 1.915C10.981 1.745 12.484 1 14.05 1 16.822 1 19 3.22 19 6.065c0 3.471-3.06 6.316-7.695 10.617L10 17.897l-1.305-1.215z\" fill=\"#2874F0\" fill-rule=\"evenodd\" opacity=\".9\" stroke=\"#FFF\"></path></svg></div></div></div></div>,\n",
       " <div class=\"_1CzqlW\"><div class=\"_3liAhj _2Vsm67\"><a class=\"Zhf2z-\" href=\"/samsung-galaxy-j5-prime-gold-16-gb/p/itmeshs24q297qsm?pid=MOBEMNHGABKEKCJR&amp;lid=LSTMOBEMNHGABKEKCJR1PBQPS&amp;marketplace=FLIPKART&amp;fm=neo%2Fmerchandising&amp;iid=M_2d5c65b1-0a48-4d62-a30e-da2eeb2a43ae_5_AYSX42C7U6_MC.MOBEMNHGABKEKCJR&amp;otracker=clp_pmu_v2_Samsung%2BMobile%2Bunder%2B%25E2%2582%25B920K_3_5.productCard.PMU_V2_Samsung%2BGalaxy%2BJ5%2BPrime%2B%2528Gold%252C%2B16%2BGB%2529_samsung-mobile-store_MOBEMNHGABKEKCJR_neo%2Fmerchandising_2&amp;cid=MOBEMNHGABKEKCJR\" rel=\"noopener noreferrer\" target=\"_blank\" title=\"Samsung Galaxy J5 Prime (Gold, 16 GB)\"><div class=\"_8Vcv_L\"><div><div class=\"_3BTv9X\" style=\"height:150px;width:150px\"><img alt=\"Samsung Galaxy J5 Prime (Gold, 16 GB)\" class=\"_1Nyybr\" src=\"//img1a.flixcart.com/www/linchpin/fk-cp-zion/img/placeholder_9951d0.svg\"/></div></div></div></a><div><div><a class=\"_2cLu-l\" href=\"/samsung-galaxy-j5-prime-gold-16-gb/p/itmeshs24q297qsm?pid=MOBEMNHGABKEKCJR&amp;lid=LSTMOBEMNHGABKEKCJR1PBQPS&amp;marketplace=FLIPKART&amp;fm=neo%2Fmerchandising&amp;iid=M_2d5c65b1-0a48-4d62-a30e-da2eeb2a43ae_5_AYSX42C7U6_MC.MOBEMNHGABKEKCJR&amp;otracker=clp_pmu_v2_Samsung%2BMobile%2Bunder%2B%25E2%2582%25B920K_3_5.productCard.PMU_V2_Samsung%2BGalaxy%2BJ5%2BPrime%2B%2528Gold%252C%2B16%2BGB%2529_samsung-mobile-store_MOBEMNHGABKEKCJR_neo%2Fmerchandising_2&amp;cid=MOBEMNHGABKEKCJR\" rel=\"noopener noreferrer\" target=\"_blank\" title=\"Samsung Galaxy J5 Prime (Gold, 16 GB)\">Samsung Galaxy J5 Prime (Gold, 16 GB)</a></div><div class=\"niH0FQ _36Fcw_\"><span class=\"_2_KrJI\" id=\"productRating_LSTMOBEMNHGABKEKCJR1PBQPS_MOBEMNHGABKEKCJR_\"><div class=\"hGSR34\">4<img class=\"_2lQ_WZ\" src=\"data:image/svg+xml;base64,PHN2ZyB4bWxucz0iaHR0cDovL3d3dy53My5vcmcvMjAwMC9zdmciIHdpZHRoPSIxMyIgaGVpZ2h0PSIxMiI+PHBhdGggZmlsbD0iI0ZGRiIgZD0iTTYuNSA5LjQzOWwtMy42NzQgMi4yMy45NC00LjI2LTMuMjEtMi44ODMgNC4yNTQtLjQwNEw2LjUuMTEybDEuNjkgNC4wMSA0LjI1NC40MDQtMy4yMSAyLjg4Mi45NCA0LjI2eiIvPjwvc3ZnPg==\"/></div></span><span class=\"_38sUEc\">(1,163)</span></div><div class=\"_1Vfi6u\"><div class=\"_1uv9Cb\"><div class=\"_1vC4OE\">₹15,542</div></div></div></div><div class=\"_3gDSOa _3iGnbq\"><div class=\"DsQ2eg\"><svg class=\"_2oLiqr\" height=\"16\" viewbox=\"0 0 20 16\" width=\"16\" xmlns=\"http://www.w3.org/2000/svg\"><path class=\"_35Y7Yo\" d=\"M8.695 16.682C4.06 12.382 1 9.536 1 6.065 1 3.219 3.178 1 5.95 1c1.566 0 3.069.746 4.05 1.915C10.981 1.745 12.484 1 14.05 1 16.822 1 19 3.22 19 6.065c0 3.471-3.06 6.316-7.695 10.617L10 17.897l-1.305-1.215z\" fill=\"#2874F0\" fill-rule=\"evenodd\" opacity=\".9\" stroke=\"#FFF\"></path></svg></div></div></div></div>,\n",
       " <div class=\"_1CzqlW\"><div class=\"_3liAhj _2Vsm67\"><a class=\"Zhf2z-\" href=\"/samsung-galaxy-j6-black-32-gb/p/itmf5bkhmazzymgm?pid=MOBF5BKHSYMVYE3A&amp;lid=LSTMOBF5BKHSYMVYE3AD8AFLA&amp;marketplace=FLIPKART&amp;fm=neo%2Fmerchandising&amp;iid=M_2d5c65b1-0a48-4d62-a30e-da2eeb2a43ae_5_AYSX42C7U6_MC.MOBF5BKHSYMVYE3A&amp;otracker=clp_pmu_v2_Samsung%2BMobile%2Bunder%2B%25E2%2582%25B920K_4_5.productCard.PMU_V2_Samsung%2BGalaxy%2BJ6%2B%2528Black%252C%2B32%2BGB%2529_samsung-mobile-store_MOBF5BKHSYMVYE3A_neo%2Fmerchandising_3&amp;cid=MOBF5BKHSYMVYE3A\" rel=\"noopener noreferrer\" target=\"_blank\" title=\"Samsung Galaxy J6 (Black, 32 GB)\"><div class=\"_8Vcv_L\"><div><div class=\"_3BTv9X\" style=\"height:150px;width:150px\"><img alt=\"Samsung Galaxy J6 (Black, 32 GB)\" class=\"_1Nyybr\" src=\"//img1a.flixcart.com/www/linchpin/fk-cp-zion/img/placeholder_9951d0.svg\"/></div></div></div></a><div><div><a class=\"_2cLu-l\" href=\"/samsung-galaxy-j6-black-32-gb/p/itmf5bkhmazzymgm?pid=MOBF5BKHSYMVYE3A&amp;lid=LSTMOBF5BKHSYMVYE3AD8AFLA&amp;marketplace=FLIPKART&amp;fm=neo%2Fmerchandising&amp;iid=M_2d5c65b1-0a48-4d62-a30e-da2eeb2a43ae_5_AYSX42C7U6_MC.MOBF5BKHSYMVYE3A&amp;otracker=clp_pmu_v2_Samsung%2BMobile%2Bunder%2B%25E2%2582%25B920K_4_5.productCard.PMU_V2_Samsung%2BGalaxy%2BJ6%2B%2528Black%252C%2B32%2BGB%2529_samsung-mobile-store_MOBF5BKHSYMVYE3A_neo%2Fmerchandising_3&amp;cid=MOBF5BKHSYMVYE3A\" rel=\"noopener noreferrer\" target=\"_blank\" title=\"Samsung Galaxy J6 (Black, 32 GB)\">Samsung Galaxy J6 (Black, 32 GB)</a></div><div class=\"niH0FQ _36Fcw_\"><span class=\"_2_KrJI\" id=\"productRating_LSTMOBF5BKHSYMVYE3AD8AFLA_MOBF5BKHSYMVYE3A_\"><div class=\"hGSR34\">4.4<img class=\"_2lQ_WZ\" src=\"data:image/svg+xml;base64,PHN2ZyB4bWxucz0iaHR0cDovL3d3dy53My5vcmcvMjAwMC9zdmciIHdpZHRoPSIxMyIgaGVpZ2h0PSIxMiI+PHBhdGggZmlsbD0iI0ZGRiIgZD0iTTYuNSA5LjQzOWwtMy42NzQgMi4yMy45NC00LjI2LTMuMjEtMi44ODMgNC4yNTQtLjQwNEw2LjUuMTEybDEuNjkgNC4wMSA0LjI1NC40MDQtMy4yMSAyLjg4Mi45NCA0LjI2eiIvPjwvc3ZnPg==\"/></div></span><span class=\"_38sUEc\">(13,341)</span></div><div class=\"_1Vfi6u\"><div class=\"_1uv9Cb\"><div class=\"_1vC4OE\">₹15,048</div></div></div></div><div class=\"_3gDSOa _3iGnbq\"><div class=\"DsQ2eg\"><svg class=\"_2oLiqr\" height=\"16\" viewbox=\"0 0 20 16\" width=\"16\" xmlns=\"http://www.w3.org/2000/svg\"><path class=\"_35Y7Yo\" d=\"M8.695 16.682C4.06 12.382 1 9.536 1 6.065 1 3.219 3.178 1 5.95 1c1.566 0 3.069.746 4.05 1.915C10.981 1.745 12.484 1 14.05 1 16.822 1 19 3.22 19 6.065c0 3.471-3.06 6.316-7.695 10.617L10 17.897l-1.305-1.215z\" fill=\"#2874F0\" fill-rule=\"evenodd\" opacity=\".9\" stroke=\"#FFF\"></path></svg></div></div></div></div>,\n",
       " <div class=\"_1CzqlW\"><div class=\"_3liAhj _2Vsm67\"><a class=\"Zhf2z-\" href=\"/samsung-galaxy-nxt-gold-32-gb/p/itmemzd4gepexjya?pid=MOBEMZD4KHRF5VZX&amp;lid=LSTMOBEMZD4KHRF5VZX7FNU5S&amp;marketplace=FLIPKART&amp;fm=neo%2Fmerchandising&amp;iid=M_2d5c65b1-0a48-4d62-a30e-da2eeb2a43ae_5_AYSX42C7U6_MC.MOBEMZD4KHRF5VZX&amp;otracker=clp_pmu_v2_Samsung%2BMobile%2Bunder%2B%25E2%2582%25B920K_5_5.productCard.PMU_V2_Samsung%2BGalaxy%2BOn%2BNxt%2B%2528Gold%252C%2B32%2BGB%2529_samsung-mobile-store_MOBEMZD4KHRF5VZX_neo%2Fmerchandising_4&amp;cid=MOBEMZD4KHRF5VZX\" rel=\"noopener noreferrer\" target=\"_blank\" title=\"Samsung Galaxy On Nxt (Gold, 32 GB)\"><div class=\"_8Vcv_L\"><div><div class=\"_3BTv9X\" style=\"height:150px;width:150px\"><img alt=\"Samsung Galaxy On Nxt (Gold, 32 GB)\" class=\"_1Nyybr\" src=\"//img1a.flixcart.com/www/linchpin/fk-cp-zion/img/placeholder_9951d0.svg\"/></div></div></div></a><div><div><a class=\"_2cLu-l\" href=\"/samsung-galaxy-nxt-gold-32-gb/p/itmemzd4gepexjya?pid=MOBEMZD4KHRF5VZX&amp;lid=LSTMOBEMZD4KHRF5VZX7FNU5S&amp;marketplace=FLIPKART&amp;fm=neo%2Fmerchandising&amp;iid=M_2d5c65b1-0a48-4d62-a30e-da2eeb2a43ae_5_AYSX42C7U6_MC.MOBEMZD4KHRF5VZX&amp;otracker=clp_pmu_v2_Samsung%2BMobile%2Bunder%2B%25E2%2582%25B920K_5_5.productCard.PMU_V2_Samsung%2BGalaxy%2BOn%2BNxt%2B%2528Gold%252C%2B32%2BGB%2529_samsung-mobile-store_MOBEMZD4KHRF5VZX_neo%2Fmerchandising_4&amp;cid=MOBEMZD4KHRF5VZX\" rel=\"noopener noreferrer\" target=\"_blank\" title=\"Samsung Galaxy On Nxt (Gold, 32 GB)\">Samsung Galaxy On Nxt (Gold, 32 GB)</a></div><div class=\"niH0FQ _36Fcw_\"><span class=\"_2_KrJI\" id=\"productRating_LSTMOBEMZD4KHRF5VZX7FNU5S_MOBEMZD4KHRF5VZX_\"><div class=\"hGSR34\">4.3<img class=\"_2lQ_WZ\" src=\"data:image/svg+xml;base64,PHN2ZyB4bWxucz0iaHR0cDovL3d3dy53My5vcmcvMjAwMC9zdmciIHdpZHRoPSIxMyIgaGVpZ2h0PSIxMiI+PHBhdGggZmlsbD0iI0ZGRiIgZD0iTTYuNSA5LjQzOWwtMy42NzQgMi4yMy45NC00LjI2LTMuMjEtMi44ODMgNC4yNTQtLjQwNEw2LjUuMTEybDEuNjkgNC4wMSA0LjI1NC40MDQtMy4yMSAyLjg4Mi45NCA0LjI2eiIvPjwvc3ZnPg==\"/></div></span><span class=\"_38sUEc\">(3,45,160)</span></div><div class=\"_1Vfi6u\"><div class=\"_1uv9Cb\"><div class=\"_1vC4OE\">₹15,900</div></div></div></div><div class=\"_3gDSOa _3iGnbq\"><div class=\"DsQ2eg\"><svg class=\"_2oLiqr\" height=\"16\" viewbox=\"0 0 20 16\" width=\"16\" xmlns=\"http://www.w3.org/2000/svg\"><path class=\"_35Y7Yo\" d=\"M8.695 16.682C4.06 12.382 1 9.536 1 6.065 1 3.219 3.178 1 5.95 1c1.566 0 3.069.746 4.05 1.915C10.981 1.745 12.484 1 14.05 1 16.822 1 19 3.22 19 6.065c0 3.471-3.06 6.316-7.695 10.617L10 17.897l-1.305-1.215z\" fill=\"#2874F0\" fill-rule=\"evenodd\" opacity=\".9\" stroke=\"#FFF\"></path></svg></div></div></div></div>,\n",
       " <div class=\"_1CzqlW\"><div class=\"_3liAhj _2Vsm67\"><a class=\"Zhf2z-\" href=\"/samsung-galaxy-on8-black-64-gb/p/itmf7f86s94awfjd?pid=MOBF7F86UGKQXQCE&amp;lid=LSTMOBF7F86UGKQXQCEUVMETI&amp;marketplace=FLIPKART&amp;fm=neo%2Fmerchandising&amp;iid=M_2d5c65b1-0a48-4d62-a30e-da2eeb2a43ae_5_AYSX42C7U6_MC.MOBF7F86UGKQXQCE&amp;otracker=clp_pmu_v2_Samsung%2BMobile%2Bunder%2B%25E2%2582%25B920K_6_5.productCard.PMU_V2_Samsung%2BGalaxy%2BOn8%2B%2528Black%252C%2B64%2BGB%2529_samsung-mobile-store_MOBF7F86UGKQXQCE_neo%2Fmerchandising_5&amp;cid=MOBF7F86UGKQXQCE\" rel=\"noopener noreferrer\" target=\"_blank\" title=\"Samsung Galaxy On8 (Black, 64 GB)\"><div class=\"_8Vcv_L\"><div><div class=\"_3BTv9X\" style=\"height:150px;width:150px\"><img alt=\"Samsung Galaxy On8 (Black, 64 GB)\" class=\"_1Nyybr\" src=\"//img1a.flixcart.com/www/linchpin/fk-cp-zion/img/placeholder_9951d0.svg\"/></div></div></div></a><div><div><a class=\"_2cLu-l\" href=\"/samsung-galaxy-on8-black-64-gb/p/itmf7f86s94awfjd?pid=MOBF7F86UGKQXQCE&amp;lid=LSTMOBF7F86UGKQXQCEUVMETI&amp;marketplace=FLIPKART&amp;fm=neo%2Fmerchandising&amp;iid=M_2d5c65b1-0a48-4d62-a30e-da2eeb2a43ae_5_AYSX42C7U6_MC.MOBF7F86UGKQXQCE&amp;otracker=clp_pmu_v2_Samsung%2BMobile%2Bunder%2B%25E2%2582%25B920K_6_5.productCard.PMU_V2_Samsung%2BGalaxy%2BOn8%2B%2528Black%252C%2B64%2BGB%2529_samsung-mobile-store_MOBF7F86UGKQXQCE_neo%2Fmerchandising_5&amp;cid=MOBF7F86UGKQXQCE\" rel=\"noopener noreferrer\" target=\"_blank\" title=\"Samsung Galaxy On8 (Black, 64 GB)\">Samsung Galaxy On8 (Black, 64 GB)</a></div><div class=\"niH0FQ _36Fcw_\"><span class=\"_2_KrJI\" id=\"productRating_LSTMOBF7F86UGKQXQCEUVMETI_MOBF7F86UGKQXQCE_\"><div class=\"hGSR34\">4.4<img class=\"_2lQ_WZ\" src=\"data:image/svg+xml;base64,PHN2ZyB4bWxucz0iaHR0cDovL3d3dy53My5vcmcvMjAwMC9zdmciIHdpZHRoPSIxMyIgaGVpZ2h0PSIxMiI+PHBhdGggZmlsbD0iI0ZGRiIgZD0iTTYuNSA5LjQzOWwtMy42NzQgMi4yMy45NC00LjI2LTMuMjEtMi44ODMgNC4yNTQtLjQwNEw2LjUuMTEybDEuNjkgNC4wMSA0LjI1NC40MDQtMy4yMSAyLjg4Mi45NCA0LjI2eiIvPjwvc3ZnPg==\"/></div></span><span class=\"_38sUEc\">(66,125)</span></div><div class=\"_1Vfi6u\"><div class=\"_1uv9Cb\"><div class=\"_1vC4OE\">₹16,990</div><div class=\"_3auQ3N\">₹<!-- -->19,990</div><div class=\"VGWI6T\"><span>15% off</span></div></div></div></div><div class=\"_3gDSOa _3iGnbq\"><div class=\"DsQ2eg\"><svg class=\"_2oLiqr\" height=\"16\" viewbox=\"0 0 20 16\" width=\"16\" xmlns=\"http://www.w3.org/2000/svg\"><path class=\"_35Y7Yo\" d=\"M8.695 16.682C4.06 12.382 1 9.536 1 6.065 1 3.219 3.178 1 5.95 1c1.566 0 3.069.746 4.05 1.915C10.981 1.745 12.484 1 14.05 1 16.822 1 19 3.22 19 6.065c0 3.471-3.06 6.316-7.695 10.617L10 17.897l-1.305-1.215z\" fill=\"#2874F0\" fill-rule=\"evenodd\" opacity=\".9\" stroke=\"#FFF\"></path></svg></div></div></div></div>]"
      ]
     },
     "execution_count": 5,
     "metadata": {},
     "output_type": "execute_result"
    }
   ],
   "source": [
    "all"
   ]
  },
  {
   "cell_type": "code",
   "execution_count": 6,
   "metadata": {},
   "outputs": [
    {
     "ename": "AttributeError",
     "evalue": "'NoneType' object has no attribute 'text'",
     "output_type": "error",
     "traceback": [
      "\u001b[1;31m---------------------------------------------------------------------------\u001b[0m",
      "\u001b[1;31mAttributeError\u001b[0m                            Traceback (most recent call last)",
      "\u001b[1;32m<ipython-input-6-25baa775dac6>\u001b[0m in \u001b[0;36m<module>\u001b[1;34m\u001b[0m\n\u001b[0;32m      3\u001b[0m     \u001b[0md\u001b[0m\u001b[1;33m=\u001b[0m\u001b[1;33m{\u001b[0m\u001b[1;33m}\u001b[0m\u001b[1;33m\u001b[0m\u001b[1;33m\u001b[0m\u001b[0m\n\u001b[0;32m      4\u001b[0m     \u001b[0md\u001b[0m\u001b[1;33m[\u001b[0m\u001b[1;34m\"Name\"\u001b[0m\u001b[1;33m]\u001b[0m\u001b[1;33m=\u001b[0m\u001b[0mitem\u001b[0m\u001b[1;33m.\u001b[0m\u001b[0mfind\u001b[0m\u001b[1;33m(\u001b[0m\u001b[1;34m\"a\"\u001b[0m\u001b[1;33m,\u001b[0m\u001b[1;33m{\u001b[0m\u001b[1;34m\"class\"\u001b[0m\u001b[1;33m:\u001b[0m\u001b[1;34m\"_2cLu-l\"\u001b[0m\u001b[1;33m}\u001b[0m\u001b[1;33m)\u001b[0m\u001b[1;33m.\u001b[0m\u001b[0mtext\u001b[0m\u001b[1;33m\u001b[0m\u001b[1;33m\u001b[0m\u001b[0m\n\u001b[1;32m----> 5\u001b[1;33m     \u001b[0md\u001b[0m\u001b[1;33m[\u001b[0m\u001b[1;34m\"Price\"\u001b[0m\u001b[1;33m]\u001b[0m\u001b[1;33m=\u001b[0m\u001b[0mitem\u001b[0m\u001b[1;33m.\u001b[0m\u001b[0mfind\u001b[0m\u001b[1;33m(\u001b[0m\u001b[1;34m\"div\"\u001b[0m\u001b[1;33m,\u001b[0m\u001b[1;33m{\u001b[0m\u001b[1;34m\"class\"\u001b[0m\u001b[1;33m:\u001b[0m\u001b[1;34m\"_1vC4OE\"\u001b[0m\u001b[1;33m}\u001b[0m\u001b[1;33m)\u001b[0m\u001b[1;33m.\u001b[0m\u001b[0mtext\u001b[0m\u001b[1;31m#.replace('₹',\"Rs\")\u001b[0m\u001b[1;33m\u001b[0m\u001b[1;33m\u001b[0m\u001b[0m\n\u001b[0m\u001b[0;32m      6\u001b[0m     \u001b[0ml\u001b[0m\u001b[1;33m.\u001b[0m\u001b[0mappend\u001b[0m\u001b[1;33m(\u001b[0m\u001b[0md\u001b[0m\u001b[1;33m)\u001b[0m\u001b[1;33m\u001b[0m\u001b[1;33m\u001b[0m\u001b[0m\n",
      "\u001b[1;31mAttributeError\u001b[0m: 'NoneType' object has no attribute 'text'"
     ]
    }
   ],
   "source": [
    "l=[]\n",
    "for item in all:\n",
    "    d={}\n",
    "    d[\"Name\"]=item.find(\"a\",{\"class\":\"_2cLu-l\"}).text\n",
    "    d[\"Price\"]=item.find(\"div\",{\"class\":\"_1vC4OE\"}).text#.replace('₹',\"Rs\")\n",
    "    l.append(d)"
   ]
  },
  {
   "cell_type": "code",
   "execution_count": null,
   "metadata": {},
   "outputs": [],
   "source": [
    "l"
   ]
  },
  {
   "cell_type": "code",
   "execution_count": null,
   "metadata": {},
   "outputs": [],
   "source": [
    "import pandas\n",
    "df=pandas.DataFrame(l)"
   ]
  },
  {
   "cell_type": "code",
   "execution_count": null,
   "metadata": {},
   "outputs": [],
   "source": [
    "df"
   ]
  },
  {
   "cell_type": "code",
   "execution_count": null,
   "metadata": {},
   "outputs": [],
   "source": []
  },
  {
   "cell_type": "code",
   "execution_count": null,
   "metadata": {},
   "outputs": [],
   "source": [
    "list_3"
   ]
  },
  {
   "cell_type": "code",
   "execution_count": null,
   "metadata": {},
   "outputs": [],
   "source": []
  },
  {
   "cell_type": "code",
   "execution_count": null,
   "metadata": {},
   "outputs": [],
   "source": [
    "list_1=[]\n",
    "for item in df[\"Name\"]:\n",
    "    try:\n",
    "        d={}\n",
    "        index_1=item.index('(')\n",
    "        n_1=item[:index_1]\n",
    "        print(n_1)\n",
    "        d=item[:index_1]\n",
    "    except:\n",
    "        None\n",
    "        d=item[:index_1]\n",
    "    list_1.append(d)\n",
    "    \n",
    "list_2=[]\n",
    "for item in df[\"Name\"]:\n",
    "    d={}\n",
    "    try:\n",
    "        index_2=item.index(',')\n",
    "        n_2=item[index_2+1:].replace(')',\"\")\n",
    "        print(n_2)\n",
    "        d=n_2\n",
    "    except:\n",
    "        None\n",
    "    list_2.append(d)\n",
    "    "
   ]
  },
  {
   "cell_type": "code",
   "execution_count": null,
   "metadata": {},
   "outputs": [],
   "source": [
    "df_f1=pandas.DataFrame(list_1)"
   ]
  },
  {
   "cell_type": "code",
   "execution_count": null,
   "metadata": {},
   "outputs": [],
   "source": [
    "df_f1"
   ]
  },
  {
   "cell_type": "code",
   "execution_count": null,
   "metadata": {},
   "outputs": [],
   "source": [
    "df_f2=pandas.DataFrame(list_2)"
   ]
  },
  {
   "cell_type": "code",
   "execution_count": null,
   "metadata": {},
   "outputs": [],
   "source": [
    "df_f2"
   ]
  },
  {
   "cell_type": "code",
   "execution_count": null,
   "metadata": {},
   "outputs": [],
   "source": [
    "df_f3 =pandas.concat([df_f1, df_f2], axis=1, join='inner')"
   ]
  },
  {
   "cell_type": "code",
   "execution_count": null,
   "metadata": {},
   "outputs": [],
   "source": [
    "df_f3"
   ]
  },
  {
   "cell_type": "code",
   "execution_count": null,
   "metadata": {},
   "outputs": [],
   "source": [
    "df_f3.columns=['Name','Storage']"
   ]
  },
  {
   "cell_type": "code",
   "execution_count": null,
   "metadata": {},
   "outputs": [],
   "source": [
    "df_f3"
   ]
  },
  {
   "cell_type": "code",
   "execution_count": null,
   "metadata": {},
   "outputs": [],
   "source": []
  },
  {
   "cell_type": "code",
   "execution_count": null,
   "metadata": {},
   "outputs": [],
   "source": [
    "list_1=[]\n",
    "for item in df[\"Name\"]:\n",
    "    try:\n",
    "        d={}\n",
    "        index_1=item.index('(')\n",
    "        n1=item[:index_1]\n",
    "        #print(n1)\n",
    "        d=item[:index_1]\n",
    "    except:\n",
    "        None\n",
    "        d=item[:index1]\n",
    "    list.append(d)\n",
    "        \n",
    "liste=[]\n",
    "for item in df3[\"Name\"]:\n",
    "    d={}\n",
    "    try:\n",
    "        index2=item.index(',')\n",
    "        index3=item.find(\"GB\",index2)\n",
    "        if index3 != -1:\n",
    "            n2=item[index3-4:index3+2]\n",
    "            print(n2)\n",
    "            d=n2\n",
    "    except:\n",
    "        None\n",
    "    liste.append(d)\n",
    "    \n",
    "liste1=[]\n",
    "for item in liste:\n",
    "    try:\n",
    "        d={}\n",
    "        index4=item.find('+')\n",
    "        #print(index4)\n",
    "        if index4 != -1:\n",
    "            n3=item[index4+1:]\n",
    "            print(n3)\n",
    "            d=n3\n",
    "        else:\n",
    "            print(item)\n",
    "            d=item\n",
    "                \n",
    "    except:\n",
    "        None\n",
    "    liste1.append(d)\n",
    "\n",
    "liste2=[]\n",
    "for item in liste1:\n",
    "    try:\n",
    "        d={}\n",
    "        index5=item.index(',')\n",
    "        #print(index5)\n",
    "        if index5 != -1:\n",
    "            n4 =item[index5+1:]\n",
    "            #print(n4)\n",
    "            d=n4\n",
    "        \n",
    "    except:\n",
    "        None\n",
    "        d=item\n",
    "        #print(item)\n",
    "    liste2.append(d)\n",
    "    "
   ]
  },
  {
   "cell_type": "code",
   "execution_count": null,
   "metadata": {},
   "outputs": [],
   "source": [
    "r=requests.get(\"https://www.amazon.in/s/ref=mega_elec_s23_1_2_1_4?rh=i%3Aelectronics%2Cn%3A4363159031&ie=UTF8&bbn=976419031\")\n",
    "c=r.content"
   ]
  },
  {
   "cell_type": "code",
   "execution_count": null,
   "metadata": {},
   "outputs": [],
   "source": [
    "c"
   ]
  },
  {
   "cell_type": "code",
   "execution_count": null,
   "metadata": {},
   "outputs": [],
   "source": [
    "soup=BeautifulSoup(c,\"html.parser\")"
   ]
  },
  {
   "cell_type": "code",
   "execution_count": null,
   "metadata": {},
   "outputs": [],
   "source": [
    "all=soup.find_all(\"a\",{\"class\":\"a-link-normal s-access-detail-page s-color-twister-title-link a-text-normal\"})"
   ]
  },
  {
   "cell_type": "code",
   "execution_count": null,
   "metadata": {},
   "outputs": [],
   "source": [
    "all"
   ]
  },
  {
   "cell_type": "code",
   "execution_count": null,
   "metadata": {},
   "outputs": [],
   "source": [
    "l1=[]\n",
    "for item in all:\n",
    "    d1={}\n",
    "    #store=item.find(\"h2\",{\"class\":\"a-size-base s-inline s-access-title a-text-normal\"}).text\n",
    "    #index1 =store.index('(')\n",
    "    #print(index1)\n",
    "    print(item.find(\"h2\",{\"class\":\"a-size-base s-inline s-access-title a-text-normal\"}).text)\n",
    "    d1[\"Name\"]=item.find(\"h2\",{\"class\":\"a-size-base s-inline s-access-title a-text-normal\"}).text\n",
    "    l1.append(d1)"
   ]
  },
  {
   "cell_type": "code",
   "execution_count": null,
   "metadata": {},
   "outputs": [],
   "source": [
    "l1"
   ]
  },
  {
   "cell_type": "code",
   "execution_count": null,
   "metadata": {},
   "outputs": [],
   "source": [
    "df1=pandas.DataFrame(l1)"
   ]
  },
  {
   "cell_type": "code",
   "execution_count": null,
   "metadata": {},
   "outputs": [],
   "source": [
    "df1"
   ]
  },
  {
   "cell_type": "code",
   "execution_count": null,
   "metadata": {},
   "outputs": [],
   "source": [
    "all=soup.find_all(\"a\",{\"class\":\"a-link-normal a-text-normal\"})"
   ]
  },
  {
   "cell_type": "code",
   "execution_count": null,
   "metadata": {},
   "outputs": [],
   "source": [
    "all"
   ]
  },
  {
   "cell_type": "code",
   "execution_count": null,
   "metadata": {},
   "outputs": [],
   "source": [
    "l2=[]\n",
    "i = 0\n",
    "for item in all:\n",
    "    if i%2 != 0:\n",
    "        d2={}\n",
    "        #print(item.text)\n",
    "        d2[\"Price\"]=item.text.replace('\\xa0',\"\")\n",
    "        print(d2)\n",
    "        l2.append(d2) \n",
    "    i=i+1\n",
    "    "
   ]
  },
  {
   "cell_type": "code",
   "execution_count": null,
   "metadata": {},
   "outputs": [],
   "source": [
    "l2"
   ]
  },
  {
   "cell_type": "code",
   "execution_count": null,
   "metadata": {},
   "outputs": [],
   "source": [
    "df2=pandas.DataFrame(l2)"
   ]
  },
  {
   "cell_type": "code",
   "execution_count": null,
   "metadata": {},
   "outputs": [],
   "source": [
    "df2"
   ]
  },
  {
   "cell_type": "code",
   "execution_count": null,
   "metadata": {},
   "outputs": [],
   "source": [
    "df3 = pandas.concat([df1, df2], axis=1, join='inner')"
   ]
  },
  {
   "cell_type": "code",
   "execution_count": null,
   "metadata": {},
   "outputs": [],
   "source": [
    "df3"
   ]
  },
  {
   "cell_type": "code",
   "execution_count": null,
   "metadata": {},
   "outputs": [],
   "source": [
    "df4 = pandas.merge(df, df3, how ='inner',on = 'Name')"
   ]
  },
  {
   "cell_type": "code",
   "execution_count": null,
   "metadata": {},
   "outputs": [],
   "source": [
    "df4"
   ]
  },
  {
   "cell_type": "code",
   "execution_count": null,
   "metadata": {},
   "outputs": [],
   "source": [
    "df"
   ]
  },
  {
   "cell_type": "code",
   "execution_count": null,
   "metadata": {},
   "outputs": [],
   "source": [
    "df3"
   ]
  },
  {
   "cell_type": "code",
   "execution_count": null,
   "metadata": {},
   "outputs": [],
   "source": [
    "list1=[{'Name':'Apple','Price':'80'},{'Name':'Banana','Price':'20'},{'Name':'Cherry','Price':'100'},{'Name':'Mango','Price':'200'}]"
   ]
  },
  {
   "cell_type": "code",
   "execution_count": null,
   "metadata": {},
   "outputs": [],
   "source": [
    "list2=[{'Name':'Apple','Price':'70'},{'Name':'Melon','Price':'20'},{'Name':'Berry','Price':'110'},{'Name':'Mango','Price':'250'}]"
   ]
  },
  {
   "cell_type": "code",
   "execution_count": null,
   "metadata": {},
   "outputs": [],
   "source": [
    "df5=pandas.DataFrame(list1)"
   ]
  },
  {
   "cell_type": "code",
   "execution_count": null,
   "metadata": {},
   "outputs": [],
   "source": [
    "df5"
   ]
  },
  {
   "cell_type": "code",
   "execution_count": null,
   "metadata": {},
   "outputs": [],
   "source": [
    "df6=pandas.DataFrame(list2)"
   ]
  },
  {
   "cell_type": "code",
   "execution_count": null,
   "metadata": {},
   "outputs": [],
   "source": [
    "df6"
   ]
  },
  {
   "cell_type": "code",
   "execution_count": null,
   "metadata": {},
   "outputs": [],
   "source": [
    "df7 = pandas.merge(df5, df6, how ='inner',on = 'Name')"
   ]
  },
  {
   "cell_type": "code",
   "execution_count": null,
   "metadata": {},
   "outputs": [],
   "source": [
    "df7"
   ]
  },
  {
   "cell_type": "code",
   "execution_count": null,
   "metadata": {},
   "outputs": [],
   "source": [
    "list=[]\n",
    "for item in df3[\"Name\"]:\n",
    "    try:\n",
    "        d={}\n",
    "        index1=item.index('(')\n",
    "        n1=item[:index1]\n",
    "        print(n1)\n",
    "        index2=item.index(',')\n",
    "        index3=item.find(\"GB\",index2)\n",
    "        n2=item[index3-4:index3+2]\n",
    "        print(n2)\n",
    "        #index4=n2.index('+')\n",
    "        #print(index4)\n",
    "        #index5=n2.index(',')\n",
    "        #print(index5)\n",
    "        #if ((n2.index('+')) != -1) or ((n2.index(',')) != -1):\n",
    "            #if (n2.index('+')) != -1:\n",
    "                #n3=n2[index4+1:]\n",
    "                #print(n3)\n",
    "            #if index5 != -1:\n",
    "                #n4 =n2[index5+1:]\n",
    "                #print(n4)\n",
    "        #else:\n",
    "            #print(n2)\n",
    "        #d[\"Name\"]=item[:index1]\n",
    "    except:\n",
    "        None\n",
    "        #d[\"Name\"]=item[:index1]\n",
    "    list.append(d)\n",
    "    \n",
    "list_edit[]\n",
    "for item in list:\n",
    "    d={}\n",
    "    \n",
    "    "
   ]
  },
  {
   "cell_type": "code",
   "execution_count": null,
   "metadata": {},
   "outputs": [],
   "source": [
    "list=[]\n",
    "for item in df3[\"Name\"]:\n",
    "    try:\n",
    "        d={}\n",
    "        index1=item.index('(')\n",
    "        n1=item[:index1]\n",
    "        #print(n1)\n",
    "        d=item[:index1]\n",
    "    except:\n",
    "        None\n",
    "        d=item[:index1]\n",
    "    list.append(d)\n",
    "        \n",
    "liste=[]\n",
    "for item in df3[\"Name\"]:\n",
    "    d={}\n",
    "    try:\n",
    "        index2=item.index(',')\n",
    "        index3=item.find(\"GB\",index2)\n",
    "        if index3 != -1:\n",
    "            n2=item[index3-4:index3+2]\n",
    "            print(n2)\n",
    "            d=n2\n",
    "    except:\n",
    "        None\n",
    "    liste.append(d)\n",
    "    \n",
    "liste1=[]\n",
    "for item in liste:\n",
    "    try:\n",
    "        d={}\n",
    "        index4=item.find('+')\n",
    "        #print(index4)\n",
    "        if index4 != -1:\n",
    "            n3=item[index4+1:]\n",
    "            print(n3)\n",
    "            d=n3\n",
    "        else:\n",
    "            print(item)\n",
    "            d=item\n",
    "                \n",
    "    except:\n",
    "        None\n",
    "    liste1.append(d)\n",
    "\n",
    "liste2=[]\n",
    "for item in liste1:\n",
    "    try:\n",
    "        d={}\n",
    "        index5=item.index(',')\n",
    "        #print(index5)\n",
    "        if index5 != -1:\n",
    "            n4 =item[index5+1:]\n",
    "            #print(n4)\n",
    "            d=n4\n",
    "        \n",
    "    except:\n",
    "        None\n",
    "        d=item\n",
    "        #print(item)\n",
    "    liste2.append(d)\n",
    "    "
   ]
  },
  {
   "cell_type": "code",
   "execution_count": null,
   "metadata": {},
   "outputs": [],
   "source": [
    "list"
   ]
  },
  {
   "cell_type": "code",
   "execution_count": null,
   "metadata": {},
   "outputs": [],
   "source": [
    "liste"
   ]
  },
  {
   "cell_type": "code",
   "execution_count": null,
   "metadata": {},
   "outputs": [],
   "source": [
    "liste1"
   ]
  },
  {
   "cell_type": "code",
   "execution_count": null,
   "metadata": {},
   "outputs": [],
   "source": [
    "liste2"
   ]
  },
  {
   "cell_type": "code",
   "execution_count": null,
   "metadata": {},
   "outputs": [],
   "source": [
    "liste3"
   ]
  },
  {
   "cell_type": "code",
   "execution_count": null,
   "metadata": {},
   "outputs": [],
   "source": [
    "df8=pandas.DataFrame(list)"
   ]
  },
  {
   "cell_type": "code",
   "execution_count": null,
   "metadata": {},
   "outputs": [],
   "source": [
    "df8"
   ]
  },
  {
   "cell_type": "code",
   "execution_count": null,
   "metadata": {},
   "outputs": [],
   "source": [
    "df9 = pandas.concat([df8, df2], axis=1, join='inner')"
   ]
  },
  {
   "cell_type": "code",
   "execution_count": null,
   "metadata": {},
   "outputs": [],
   "source": [
    "df9"
   ]
  },
  {
   "cell_type": "code",
   "execution_count": null,
   "metadata": {},
   "outputs": [],
   "source": [
    "df14=df9.drop_duplicates(subset =\"Name\")"
   ]
  },
  {
   "cell_type": "code",
   "execution_count": null,
   "metadata": {},
   "outputs": [],
   "source": [
    "df14"
   ]
  },
  {
   "cell_type": "code",
   "execution_count": null,
   "metadata": {},
   "outputs": [],
   "source": [
    "list1=[]\n",
    "for item in df[\"Name\"]:\n",
    "    d={}\n",
    "    try:\n",
    "        index2=item.index('(')\n",
    "        print(item[:index2])\n",
    "        d[\"Name\"]=item[:index2]\n",
    "    except:\n",
    "        None\n",
    "        d[\"Name\"]=item[:index2]\n",
    "    list1.append(d)    \n"
   ]
  },
  {
   "cell_type": "code",
   "execution_count": null,
   "metadata": {},
   "outputs": [],
   "source": [
    "list1"
   ]
  },
  {
   "cell_type": "code",
   "execution_count": null,
   "metadata": {},
   "outputs": [],
   "source": [
    "df10=pandas.DataFrame(list1)"
   ]
  },
  {
   "cell_type": "code",
   "execution_count": null,
   "metadata": {},
   "outputs": [],
   "source": [
    "df10"
   ]
  },
  {
   "cell_type": "code",
   "execution_count": null,
   "metadata": {},
   "outputs": [],
   "source": [
    "list2=[]\n",
    "for item in df[\"Price\"]:\n",
    "    d={}\n",
    "    d[\"Price\"]=item\n",
    "    list2.append(d)"
   ]
  },
  {
   "cell_type": "code",
   "execution_count": null,
   "metadata": {},
   "outputs": [],
   "source": [
    "list2"
   ]
  },
  {
   "cell_type": "code",
   "execution_count": null,
   "metadata": {},
   "outputs": [],
   "source": [
    "df11=pandas.DataFrame(list2)"
   ]
  },
  {
   "cell_type": "code",
   "execution_count": null,
   "metadata": {},
   "outputs": [],
   "source": [
    "df11"
   ]
  },
  {
   "cell_type": "code",
   "execution_count": null,
   "metadata": {},
   "outputs": [],
   "source": [
    "df12 = pandas.concat([df_f3, df11], axis=1, join='inner')"
   ]
  },
  {
   "cell_type": "code",
   "execution_count": null,
   "metadata": {},
   "outputs": [],
   "source": [
    "df12"
   ]
  },
  {
   "cell_type": "code",
   "execution_count": null,
   "metadata": {},
   "outputs": [],
   "source": []
  },
  {
   "cell_type": "code",
   "execution_count": null,
   "metadata": {},
   "outputs": [],
   "source": [
    "df13=df12.drop_duplicates(subset =\"Name\")"
   ]
  },
  {
   "cell_type": "code",
   "execution_count": null,
   "metadata": {},
   "outputs": [],
   "source": [
    "df13"
   ]
  },
  {
   "cell_type": "code",
   "execution_count": null,
   "metadata": {},
   "outputs": [],
   "source": [
    "df15= pandas.merge(df14, df13, how ='inner',on = 'Name',suffixes=('_left', '_right'))"
   ]
  },
  {
   "cell_type": "code",
   "execution_count": null,
   "metadata": {},
   "outputs": [],
   "source": [
    "df15"
   ]
  },
  {
   "cell_type": "code",
   "execution_count": null,
   "metadata": {},
   "outputs": [],
   "source": [
    "df15.to_csv(\"Output1.csv\")"
   ]
  },
  {
   "cell_type": "code",
   "execution_count": null,
   "metadata": {},
   "outputs": [],
   "source": [
    "str1=\"likes\"\n",
    "print(str1.find('a'))"
   ]
  },
  {
   "cell_type": "code",
   "execution_count": null,
   "metadata": {},
   "outputs": [],
   "source": [
    "df16=pandas.DataFrame(list)"
   ]
  },
  {
   "cell_type": "code",
   "execution_count": null,
   "metadata": {},
   "outputs": [],
   "source": [
    "df16"
   ]
  },
  {
   "cell_type": "code",
   "execution_count": null,
   "metadata": {},
   "outputs": [],
   "source": [
    "df17=pandas.DataFrame(liste2)"
   ]
  },
  {
   "cell_type": "code",
   "execution_count": null,
   "metadata": {},
   "outputs": [],
   "source": [
    "df17"
   ]
  },
  {
   "cell_type": "code",
   "execution_count": null,
   "metadata": {},
   "outputs": [],
   "source": [
    "df18=pandas.concat([df16, df17,df2], axis=1, join='inner')"
   ]
  },
  {
   "cell_type": "code",
   "execution_count": null,
   "metadata": {},
   "outputs": [],
   "source": [
    "df18"
   ]
  },
  {
   "cell_type": "code",
   "execution_count": null,
   "metadata": {},
   "outputs": [],
   "source": [
    "df18.columns=['Name','Storage','Price']"
   ]
  },
  {
   "cell_type": "code",
   "execution_count": null,
   "metadata": {},
   "outputs": [],
   "source": [
    "df18"
   ]
  },
  {
   "cell_type": "code",
   "execution_count": null,
   "metadata": {},
   "outputs": [],
   "source": [
    "df18['name_storage'] = df18['Name'] +'-' + df18['Storage'].map(str)"
   ]
  },
  {
   "cell_type": "code",
   "execution_count": null,
   "metadata": {},
   "outputs": [],
   "source": [
    "df18"
   ]
  },
  {
   "cell_type": "code",
   "execution_count": 31,
   "metadata": {},
   "outputs": [],
   "source": [
    "from bokeh.plotting import figure\n",
    "from bokeh.io import output_file,show\n",
    "import pandas\n",
    "\n",
    "df_r=pandas.read_csv(\"Output.csv\")\n",
    "\n",
    "output_file(\"line_1.html\")\n",
    "\n",
    "x=df_r[\"Area\"]\n",
    "y=df_r[\"Price\"]\n",
    "\n",
    "f=figure(plot_width=400, plot_height=400,\n",
    "           title=None, toolbar_location=\"below\",\n",
    "           toolbar_sticky=False)\n",
    "\n",
    "f.circle(x,y)\n",
    "\n",
    "show(f)"
   ]
  },
  {
   "cell_type": "code",
   "execution_count": null,
   "metadata": {},
   "outputs": [],
   "source": []
  }
 ],
 "metadata": {
  "kernelspec": {
   "display_name": "Python 3",
   "language": "python",
   "name": "python3"
  },
  "language_info": {
   "codemirror_mode": {
    "name": "ipython",
    "version": 3
   },
   "file_extension": ".py",
   "mimetype": "text/x-python",
   "name": "python",
   "nbconvert_exporter": "python",
   "pygments_lexer": "ipython3",
   "version": "3.7.1"
  }
 },
 "nbformat": 4,
 "nbformat_minor": 2
}
